{
 "cells": [
  {
   "cell_type": "markdown",
   "metadata": {
    "slideshow": {
     "slide_type": "slide"
    }
   },
   "source": [
    "# Manipulating and Creating Columns"
   ]
  },
  {
   "cell_type": "markdown",
   "metadata": {
    "slideshow": {
     "slide_type": "-"
    }
   },
   "source": [
    "> During the course of doing data analysis and modeling, a significant amount of time is spent on data preparation: loading, cleaning, transforming, and rearranging. Such tasks are often reported to take up to 80% of a Data Scientists time.\n",
    ">\n",
    "> \\- Wes McKinney, the creator of Pandas"
   ]
  },
  {
   "cell_type": "markdown",
   "metadata": {
    "slideshow": {
     "slide_type": "slide"
    }
   },
   "source": [
    "## Applied Review"
   ]
  },
  {
   "cell_type": "markdown",
   "metadata": {
    "slideshow": {
     "slide_type": "slide"
    }
   },
   "source": [
    "### Data Structures and DataFrames\n",
    "- We use **DataFrames** to represent tables in Python."
   ]
  },
  {
   "cell_type": "markdown",
   "metadata": {
    "slideshow": {
     "slide_type": "fragment"
    }
   },
   "source": [
    "- Python also support other data structures for storing information that isn't tabular. Examples include lists and dictionaries."
   ]
  },
  {
   "cell_type": "markdown",
   "metadata": {
    "slideshow": {
     "slide_type": "fragment"
    }
   },
   "source": [
    "- DataFrames have many **methods**, or functions that access or modify their internal data. Some examples we saw were `describe()` and `set_index()`."
   ]
  },
  {
   "cell_type": "markdown",
   "metadata": {
    "slideshow": {
     "slide_type": "fragment"
    }
   },
   "source": [
    "- DataFrames are composed of **Series**, 1-dimensional data structures of homogenous type"
   ]
  },
  {
   "cell_type": "markdown",
   "metadata": {
    "slideshow": {
     "slide_type": "slide"
    }
   },
   "source": [
    "### Selecting and Filtering Data\n",
    "- Python's pandas library supports limiting rows (via *filtering* and *slicing*), as well as *selecting* columns."
   ]
  },
  {
   "cell_type": "markdown",
   "metadata": {
    "slideshow": {
     "slide_type": "fragment"
    }
   },
   "source": [
    "- For selecting colums, we use _just the brackets_ `df[]`. For all operations involving rows, we use the `df.loc[]` location *accessor*."
   ]
  },
  {
   "cell_type": "markdown",
   "metadata": {
    "slideshow": {
     "slide_type": "fragment"
    }
   },
   "source": [
    "* `.loc` also supports selecting columns via the `df.loc[rows,cols]` syntax"
   ]
  },
  {
   "cell_type": "markdown",
   "metadata": {
    "slideshow": {
     "slide_type": "fragment"
    }
   },
   "source": [
    "* Note: You could even use `.loc` to _only_ select colums by writing `df.loc[:,cols]`, where `:` stands for \"all elements\" but in this case `df[cols]` is a better choice."
   ]
  },
  {
   "cell_type": "markdown",
   "metadata": {
    "slideshow": {
     "slide_type": "slide"
    }
   },
   "source": [
    "## Calculations Using Columns"
   ]
  },
  {
   "cell_type": "markdown",
   "metadata": {
    "slideshow": {
     "slide_type": "fragment"
    }
   },
   "source": [
    "It's common to want to modify a column of a DataFrame, or create a new column.\n",
    "To demonstrate this let's take a look at our planes data again."
   ]
  },
  {
   "cell_type": "code",
   "execution_count": null,
   "metadata": {
    "slideshow": {
     "slide_type": "slide"
    }
   },
   "outputs": [],
   "source": [
    "import pandas as pd\n",
    "planes = pd.read_csv('../data/planes.csv')"
   ]
  },
  {
   "cell_type": "code",
   "execution_count": null,
   "metadata": {
    "slideshow": {
     "slide_type": "fragment"
    }
   },
   "outputs": [],
   "source": [
    "planes.head()"
   ]
  },
  {
   "cell_type": "markdown",
   "metadata": {
    "slideshow": {
     "slide_type": "slide"
    }
   },
   "source": [
    "Suppose we wanted to know the total capacity of each plane, including the crew.\n",
    "We have data on how many seats each plane has (in the `seats` column), but that only includes paying passengers.\n",
    "\n"
   ]
  },
  {
   "cell_type": "code",
   "execution_count": null,
   "metadata": {
    "slideshow": {
     "slide_type": "fragment"
    }
   },
   "outputs": [],
   "source": [
    "seats = planes['seats']\n",
    "seats.head()"
   ]
  },
  {
   "cell_type": "markdown",
   "metadata": {
    "slideshow": {
     "slide_type": "slide"
    }
   },
   "source": [
    "For simplicity, let's say a full flight crew is always 5 people.\n",
    "Series objects allow us to perform addition with the regular `+` syntax –- in this case, `seats + 5`."
   ]
  },
  {
   "cell_type": "code",
   "execution_count": null,
   "metadata": {
    "slideshow": {
     "slide_type": "fragment"
    }
   },
   "outputs": [],
   "source": [
    "capacity = seats + 5\n",
    "capacity.head()"
   ]
  },
  {
   "cell_type": "markdown",
   "metadata": {
    "slideshow": {
     "slide_type": "slide"
    }
   },
   "source": [
    "So we've created a new Series, `capacity`, with the total carrying capacity of the plane.  \n",
    "\n",
    "Right now this new Series is totally separate from our original `planes` DataFrame, but we can make it a column of `planes` using the **assignment syntax**, `=`, with the **column reference syntax**, `[]`.\n",
    "```python\n",
    "df['new_column_name'] = new_column_series\n",
    "```"
   ]
  },
  {
   "cell_type": "code",
   "execution_count": null,
   "metadata": {
    "slideshow": {
     "slide_type": "skip"
    }
   },
   "outputs": [],
   "source": [
    "def highlight(row_or_col: pd.Series):\n",
    "    labels_to_highlight = ['capacity']\n",
    "    if row_or_col.name in labels_to_highlight:\n",
    "        return ['background-color: lightblue']*len(row_or_col)\n",
    "    else:\n",
    "        return ['background-color: white']*len(row_or_col)"
   ]
  },
  {
   "cell_type": "code",
   "execution_count": null,
   "metadata": {
    "slideshow": {
     "slide_type": "slide"
    }
   },
   "outputs": [],
   "source": [
    "planes['capacity'] = capacity\n",
    "planes.head().style.apply(highlight)"
   ]
  },
  {
   "cell_type": "markdown",
   "metadata": {
    "slideshow": {
     "slide_type": "fragment"
    }
   },
   "source": [
    "Note that `planes` now has a \"capacity\" column at the end."
   ]
  },
  {
   "cell_type": "markdown",
   "metadata": {
    "slideshow": {
     "slide_type": "fragment"
    }
   },
   "source": [
    "Also note that in the code above, the *column name* goes in quotes within the bracket syntax, while the *values that will become the column* -- the Series we're using -- are on the right side of the statement"
   ]
  },
  {
   "cell_type": "markdown",
   "metadata": {
    "slideshow": {
     "slide_type": "slide"
    }
   },
   "source": [
    "This sequence of operations can be expressed as a single line:"
   ]
  },
  {
   "cell_type": "code",
   "execution_count": null,
   "metadata": {
    "slideshow": {
     "slide_type": "fragment"
    }
   },
   "outputs": [],
   "source": [
    "# Create a capacity column filled with the values in the seats column added with 5.\n",
    "planes['capacity'] = planes['seats'] + 5"
   ]
  },
  {
   "cell_type": "markdown",
   "metadata": {
    "slideshow": {
     "slide_type": "slide"
    }
   },
   "source": [
    "From a mathematical perspective, what we're doing here is adding a *scalar* -- a single value -- to a *vector* -- a series of values (aka a `Series`).\n",
    "Other vector-scalar math is supported as well."
   ]
  },
  {
   "cell_type": "code",
   "execution_count": null,
   "metadata": {
    "slideshow": {
     "slide_type": "slide"
    }
   },
   "outputs": [],
   "source": [
    "# Subtraction\n",
    "planes['seats'] - 12"
   ]
  },
  {
   "cell_type": "code",
   "execution_count": null,
   "metadata": {
    "slideshow": {
     "slide_type": "slide"
    }
   },
   "outputs": [],
   "source": [
    "# Multiplication\n",
    "planes['seats'] / 10"
   ]
  },
  {
   "cell_type": "code",
   "execution_count": null,
   "metadata": {
    "slideshow": {
     "slide_type": "slide"
    }
   },
   "outputs": [],
   "source": [
    "# Exponentiation\n",
    "planes['seats'] ** 2"
   ]
  },
  {
   "cell_type": "markdown",
   "metadata": {
    "slideshow": {
     "slide_type": "slide"
    }
   },
   "source": [
    "## Your Turn\n",
    "\n",
    "<img src=\"images/exercise.png\" style=\"width: 1000px;\"/>"
   ]
  },
  {
   "cell_type": "markdown",
   "metadata": {
    "slideshow": {
     "slide_type": "slide"
    }
   },
   "source": [
    "<font class=\"your_turn\">\n",
    "    Your Turn\n",
    "</font>\n",
    "\n",
    "1. Erstelle eine neue Variable `first_class_seats`, die 1/5 der verfügbaren Plätze darstellt.  \n",
    "_Tipp: Um Dezimalstellen im Ergebnis zu vermeiden, kann der \"floor division\" Operator `//` genutzt werden._"
   ]
  },
  {
   "cell_type": "markdown",
   "metadata": {
    "slideshow": {
     "slide_type": "slide"
    }
   },
   "source": [
    "## Overwriting Columns\n"
   ]
  },
  {
   "cell_type": "markdown",
   "metadata": {
    "slideshow": {
     "slide_type": "fragment"
    }
   },
   "source": [
    "What if we discovered a systematic error in our data?\n",
    "Perhaps we find out that the \"engines\" column is only the number of engines *per wing* -- so the total number of engines is actually double the value in that column."
   ]
  },
  {
   "cell_type": "markdown",
   "metadata": {
    "slideshow": {
     "slide_type": "fragment"
    }
   },
   "source": [
    "We could create a new column, \"real_engine_count\" or \"total_engines\".\n",
    "But we're not going to need the original \"engines\" column, and leaving it could cause confusion for others looking at our data."
   ]
  },
  {
   "cell_type": "markdown",
   "metadata": {
    "slideshow": {
     "slide_type": "fragment"
    }
   },
   "source": [
    "A better solution would be to **replace the original column** with the new, recalculated, values.\n",
    "We can do so using the **same syntax as** for **creating a new column**."
   ]
  },
  {
   "cell_type": "code",
   "execution_count": null,
   "metadata": {
    "slideshow": {
     "slide_type": "slide"
    }
   },
   "outputs": [],
   "source": [
    "planes.head()"
   ]
  },
  {
   "cell_type": "code",
   "execution_count": null,
   "metadata": {
    "slideshow": {
     "slide_type": "slide"
    }
   },
   "outputs": [],
   "source": [
    "# Multiply the engines column by 2, and then overwrite the original data.\n",
    "planes['engines'] = planes['engines'] * 2"
   ]
  },
  {
   "cell_type": "code",
   "execution_count": null,
   "metadata": {
    "slideshow": {
     "slide_type": "fragment"
    }
   },
   "outputs": [],
   "source": [
    "planes.head()"
   ]
  },
  {
   "cell_type": "markdown",
   "metadata": {
    "slideshow": {
     "slide_type": "slide"
    }
   },
   "source": [
    "## Calculating Values Based on Multiple Columns"
   ]
  },
  {
   "cell_type": "markdown",
   "metadata": {
    "slideshow": {
     "slide_type": "fragment"
    }
   },
   "source": [
    "So far we've only seen vector-scalar math.\n",
    "But vector-vector math is supported as well."
   ]
  },
  {
   "cell_type": "markdown",
   "metadata": {
    "slideshow": {
     "slide_type": "fragment"
    }
   },
   "source": [
    "Let's look at a toy example of creating a column that contains the **number of seats per engine**."
   ]
  },
  {
   "cell_type": "code",
   "execution_count": null,
   "metadata": {
    "slideshow": {
     "slide_type": "slide"
    }
   },
   "outputs": [],
   "source": [
    "seats_per_engine = planes['seats'] / planes['engines']\n",
    "seats_per_engine.head()"
   ]
  },
  {
   "cell_type": "code",
   "execution_count": null,
   "metadata": {
    "slideshow": {
     "slide_type": "fragment"
    }
   },
   "outputs": [],
   "source": [
    "planes['seats_per_engine'] = seats_per_engine\n",
    "planes.head()"
   ]
  },
  {
   "cell_type": "markdown",
   "metadata": {
    "slideshow": {
     "slide_type": "slide"
    }
   },
   "source": [
    "You can combine vector-vector and vector-scalar calculations in arbitrarily complex ways."
   ]
  },
  {
   "cell_type": "code",
   "execution_count": null,
   "metadata": {
    "slideshow": {
     "slide_type": "fragment"
    }
   },
   "outputs": [],
   "source": [
    "planes['nonsense'] = (planes['year'] + 12) * planes['engines'] + planes['seats'] - 9\n",
    "planes.head()"
   ]
  },
  {
   "cell_type": "markdown",
   "metadata": {
    "slideshow": {
     "slide_type": "fragment"
    }
   },
   "source": [
    "Note that the normal _precedence rules_ for mathematical operators hold when working with dataframes. So we place `planes['year'] + 12` in parentheses to ensure it happens before the multiplication."
   ]
  },
  {
   "cell_type": "markdown",
   "metadata": {
    "slideshow": {
     "slide_type": "slide"
    }
   },
   "source": [
    "## Your Turn\n",
    "\n",
    "<img src=\"images/exercise.png\" style=\"width: 1000px;\"/>"
   ]
  },
  {
   "cell_type": "markdown",
   "metadata": {
    "slideshow": {
     "slide_type": "slide"
    }
   },
   "source": [
    "<font class=\"your_turn\">\n",
    "    Your Turn\n",
    "</font>\n",
    "\n",
    "1. Erstelle eine neue Variable `technology_index`, die sich wie folgt berechnet:  \n",
    "`technology_index = (year-1900) / 4 + engines * 2`  \n",
    "_Note: Remember the order of operations!_\n",
    "2. Lade das Movies Dataset und erzeuge eine neue Variable `profit` die aus `gross - budget` berechnet wird."
   ]
  },
  {
   "cell_type": "markdown",
   "metadata": {
    "slideshow": {
     "slide_type": "skip"
    }
   },
   "source": [
    "<font class=\"your_turn\">\n",
    "    Your Turn\n",
    "</font>\n",
    "\n",
    "Create a new column in the planes DataFrame, \"technology_index\", that is calculated with the formula:\n",
    "\n",
    "`technology_index = (year-1900) / 4 + engines * 2`\n",
    "\n",
    "Remember order of operations!"
   ]
  },
  {
   "cell_type": "markdown",
   "metadata": {
    "slideshow": {
     "slide_type": "slide"
    }
   },
   "source": [
    "## Your Turn\n",
    "\n",
    "<img src=\"images/exercise.png\" style=\"width: 1000px;\"/>"
   ]
  },
  {
   "cell_type": "markdown",
   "metadata": {
    "slideshow": {
     "slide_type": "slide"
    }
   },
   "source": [
    "<font class=\"your_turn\">\n",
    "    Your Turn\n",
    "</font>\n",
    "\n",
    "\n",
    "1. Lade das Airbnb Dataset (`../data/airbnb.csv`) in einen DataFrame mit dem Namen `airbnb`.\n",
    "2. Verschaffe dir einen ersten Eindruck über die Daten (z.B. via das `.shape` Attribut und die `.head()` und `.tail()` Methoden). Wie viele Einträge enthält das Dataset? Wie viele Variablen gibt es?\n",
    "3. Filtere die Daten, so dass nur die Einträge vom Typ \"Apartment\" angezeigt werden. Speichere das Ergebnis als neuen DataFrame zwischen.\n",
    "4. Erstelle eine neue Variable `price_per_person`, die den Preis pro Person angibt. (Unter der Annahme dass die Unterkunft voll ausgebucht ist.) <br>\n",
    "_Tipp: Die `accomodates` Variable gibt Auskunft darüber, wie viele Personen in einer Unterkunft übernachten können._\n",
    "5. Filtere die Daten und finde alle Unterkünfte, die ein Rating höher als 90 haben, und zudem Platz für mindestens 4 Gäste. Wie viele Unterkünfte erfüllen diese Kriterien?\n",
    "6. Erstelle einen neuen Datensatz, der die Variable `id`, als Index nutzt und zudem nur die Variabeln `property_type`, `bedrooms`, `price` und `rating` enthält.\n",
    "7. Bonus: Erforsche den Datensatz nach eigenem Interesse weiter. Und versuche dabei die bisher gelernten Python & Pandas Kenntnisse anzuwenden."
   ]
  },
  {
   "cell_type": "markdown",
   "metadata": {
    "slideshow": {
     "slide_type": "slide"
    }
   },
   "source": [
    "#<div style=\"color: white\"> \n",
    "df = pd.read_csv('../data/airbnb.csv')\n",
    "df.head()\n",
    "filt = df['property_type'] == \"Apartment\"\n",
    "df[filt]\n",
    "#</div>"
   ]
  },
  {
   "cell_type": "code",
   "execution_count": null,
   "metadata": {
    "slideshow": {
     "slide_type": "fragment"
    }
   },
   "outputs": [],
   "source": [
    "#"
   ]
  },
  {
   "cell_type": "markdown",
   "metadata": {
    "slideshow": {
     "slide_type": "slide"
    }
   },
   "source": [
    "# Questions\n",
    "\n",
    "Are there any questions up to this point?\n",
    "\n",
    "<img src=\"images/any_questions.png\" style=\"width: 1000px;\"/>"
   ]
  },
  {
   "cell_type": "markdown",
   "metadata": {
    "slideshow": {
     "slide_type": "slide"
    }
   },
   "source": [
    "## Non-numeric Column Operations"
   ]
  },
  {
   "cell_type": "markdown",
   "metadata": {
    "slideshow": {
     "slide_type": "fragment"
    }
   },
   "source": [
    "So far we have seen mathematical operations on _numeric values_. <br>  \n",
    "Of course, pandas supports string operations as well."
   ]
  },
  {
   "cell_type": "markdown",
   "metadata": {
    "slideshow": {
     "slide_type": "slide"
    }
   },
   "source": [
    "We can use `+` to concatenate strings, with both vectors and scalars."
   ]
  },
  {
   "cell_type": "code",
   "execution_count": null,
   "metadata": {
    "slideshow": {
     "slide_type": "fragment"
    }
   },
   "outputs": [],
   "source": [
    "summary = 'Tailnum is ' + planes['tailnum'] + ' and Model is ' + planes['model']\n",
    "summary.head()"
   ]
  },
  {
   "cell_type": "markdown",
   "metadata": {
    "slideshow": {
     "slide_type": "slide"
    }
   },
   "source": [
    "More complex string operations are possible using methods available through the `.str` *accessor*. There are _many_, so we won't cover them all.  \n",
    "\n",
    "You can refer to the [documentation](https://pandas.pydata.org/pandas-docs/stable/reference/series.html#api-series-str) for a full overview of available methods if you are interested. The general usage pattern is always `df['col_name'].str.method_name()`:"
   ]
  },
  {
   "cell_type": "code",
   "execution_count": null,
   "metadata": {
    "slideshow": {
     "slide_type": "fragment"
    }
   },
   "outputs": [],
   "source": [
    "# Make the manufacturer field lowercase.\n",
    "lowercase_manufacturer = planes['manufacturer'].str.lower()\n",
    "lowercase_manufacturer.head()"
   ]
  },
  {
   "cell_type": "code",
   "execution_count": null,
   "metadata": {
    "slideshow": {
     "slide_type": "fragment"
    }
   },
   "outputs": [],
   "source": [
    "# Get the length of the manufacturer name\n",
    "manufacturer_len = planes['manufacturer'].str.len()\n",
    "manufacturer_len.head()"
   ]
  },
  {
   "cell_type": "markdown",
   "metadata": {
    "slideshow": {
     "slide_type": "slide"
    }
   },
   "source": [
    "## More Complex Column Manipulation"
   ]
  },
  {
   "cell_type": "markdown",
   "metadata": {
    "slideshow": {
     "slide_type": "slide"
    }
   },
   "source": [
    "### Mapping Values"
   ]
  },
  {
   "cell_type": "markdown",
   "metadata": {
    "slideshow": {
     "slide_type": "fragment"
    }
   },
   "source": [
    "One fairly common situation in data wrangling is needing to convert one set of values to another, where there is a **one-to-one correspondence** between the _values currently in the column_ and the _new values that should replace them_.\n",
    "\n",
    "This operation can be described as **\"mapping one set of values to another\"**."
   ]
  },
  {
   "cell_type": "markdown",
   "metadata": {
    "slideshow": {
     "slide_type": "fragment"
    }
   },
   "source": [
    "Let's look at an example of this."
   ]
  },
  {
   "cell_type": "code",
   "execution_count": null,
   "metadata": {
    "slideshow": {
     "slide_type": "slide"
    }
   },
   "outputs": [],
   "source": [
    "airlines = pd.read_csv('../data/airlines.csv')\n",
    "# Keep just the first 5 rows for this example.\n",
    "airlines = airlines.loc[0:4]\n",
    "airlines"
   ]
  },
  {
   "cell_type": "markdown",
   "metadata": {
    "slideshow": {
     "slide_type": "slide"
    }
   },
   "source": [
    "Suppose we learn that there is a mistake in the carrier codes and they should be updated.\n",
    "- 9E should be PE\n",
    "- B6 should be BB\n",
    "- The other codes should stay as they are."
   ]
  },
  {
   "cell_type": "markdown",
   "metadata": {
    "slideshow": {
     "slide_type": "fragment"
    }
   },
   "source": [
    "We can express this *mapping* of old values to new values using a Python dictionary."
   ]
  },
  {
   "cell_type": "code",
   "execution_count": null,
   "metadata": {
    "slideshow": {
     "slide_type": "fragment"
    }
   },
   "outputs": [],
   "source": [
    "value_mapping = {'9E': 'PE',\n",
    "                 'B6': 'BB'}\n",
    "# The format is always {old_value:new_value}\n",
    "# Values which aren't in the dictionary won't be affected"
   ]
  },
  {
   "cell_type": "markdown",
   "metadata": {
    "slideshow": {
     "slide_type": "slide"
    }
   },
   "source": [
    "Pandas provides the `.replace` method that accepts this value mapping and updates the Series accordingly.\n",
    "\n",
    "We can use it to create a new column, \"updated_carrier\", with the proper carrier code values."
   ]
  },
  {
   "cell_type": "code",
   "execution_count": null,
   "metadata": {
    "slideshow": {
     "slide_type": "skip"
    }
   },
   "outputs": [],
   "source": [
    "def highlight(labels_to_highlight):\n",
    "    def highlight_wrapped(row_or_col: pd.Series):\n",
    "        if row_or_col.name in labels_to_highlight:\n",
    "            return ['background-color: lightblue']*len(row_or_col)\n",
    "        else:\n",
    "            return ['background-color: white']*len(row_or_col)\n",
    "    return highlight_wrapped"
   ]
  },
  {
   "cell_type": "code",
   "execution_count": null,
   "metadata": {
    "slideshow": {
     "slide_type": "fragment"
    }
   },
   "outputs": [],
   "source": [
    "value_mapping = {'9E': 'PE',\n",
    "                 'B6': 'BB'}\n",
    "airlines['updated_carrier'] = airlines['carrier'].replace(value_mapping)\n",
    "airlines.style.apply(highlight([0,3]), 1)"
   ]
  },
  {
   "cell_type": "markdown",
   "metadata": {
    "slideshow": {
     "slide_type": "slide"
    }
   },
   "source": [
    "### The `apply` Method and Beyond"
   ]
  },
  {
   "cell_type": "markdown",
   "metadata": {
    "slideshow": {
     "slide_type": "fragment"
    }
   },
   "source": [
    "If you can think of a way to express a new column as a combination of other columns and constants, it can easily be created using the methods we have seen so far.\n",
    "\n",
    "If you need to perform some very complex or specialised operations on your data, the `apply` method allows to execute arbitrary code _on each_ element of a DataFrame or Series. If you wish to learn more, take a look at the [`DataFrame.apply` method](https://pandas.pydata.org/pandas-docs/stable/reference/api/pandas.DataFrame.apply.html). Note however that executing custom code on a per element level like this will incur a performance cost compared to the vectorized operations offered by Pandas. "
   ]
  },
  {
   "cell_type": "markdown",
   "metadata": {
    "slideshow": {
     "slide_type": "slide"
    }
   },
   "source": [
    "Here is a contrived example just to illustrate that **anything** can be achieved:"
   ]
  },
  {
   "cell_type": "code",
   "execution_count": null,
   "metadata": {
    "slideshow": {
     "slide_type": "fragment"
    }
   },
   "outputs": [],
   "source": [
    "df = pd.read_csv('../data/movies.csv', keep_default_na=False)"
   ]
  },
  {
   "cell_type": "code",
   "execution_count": null,
   "metadata": {
    "slideshow": {
     "slide_type": "fragment"
    }
   },
   "outputs": [],
   "source": [
    "def arbitrarily_complex_operation(element):\n",
    "    uppercase_element = element.upper()\n",
    "    length_of_element = len(element)\n",
    "    length_of_element_squared = length_of_element ** 2\n",
    "    \n",
    "    if len(element.split()) > 1:\n",
    "        last_name = element.split()[-1]\n",
    "    else:\n",
    "        last_name = \"Name Unknown\"\n",
    "    \n",
    "    return f\"{uppercase_element}, Name length: {length_of_element} ----- {last_name}\""
   ]
  },
  {
   "cell_type": "code",
   "execution_count": null,
   "metadata": {
    "slideshow": {
     "slide_type": "fragment"
    }
   },
   "outputs": [],
   "source": [
    "df['director_name'].apply(arbitrarily_complex_operation)"
   ]
  },
  {
   "cell_type": "markdown",
   "metadata": {
    "slideshow": {
     "slide_type": "slide"
    }
   },
   "source": [
    "Please DON'T do this, unless absolutely necessary! :-)"
   ]
  },
  {
   "cell_type": "markdown",
   "metadata": {
    "slideshow": {
     "slide_type": "slide"
    }
   },
   "source": [
    "## Your Turn\n",
    "\n",
    "<img src=\"images/exercise.png\" style=\"width: 1000px;\"/>"
   ]
  },
  {
   "cell_type": "markdown",
   "metadata": {
    "slideshow": {
     "slide_type": "slide"
    }
   },
   "source": [
    "<font class=\"your_turn\">\n",
    "    Your Turn\n",
    "</font>\n",
    "\n",
    "1. Lade den Wetter Datensatz (`../data/weather.csv`) in einen DataFrame mit dem Namen `weather`.\n",
    "2. Sieh dir die Variable `month` genauer an. Über den Befehl `weather.dtypes` kannst du herausfinden, dass die Werte in dieser Variablen als Integers abgelegt sind. Kannst du dir vorstellen, wie die Zahlen mit den Monaten in Verbindung stehen?\n",
    "3. Schreibe Code um ein \"Mapping\" von jeder Zahl zum zugehörigen Monat vorzunehmen. Nutze hierfür ein Dictionary. (z.B. `{1: 'Januar', ...}`). Speichere das Dictionary in einer Variablen `month_mapping`.\n",
    "4. Verwende die `.replace` Methode um die aktuelle Repräsentation der Monate mit den Namen der Monate zu überschreiben. "
   ]
  },
  {
   "cell_type": "markdown",
   "metadata": {
    "slideshow": {
     "slide_type": "skip"
    }
   },
   "source": [
    "<font class=\"your_turn\">\n",
    "    Your Turn\n",
    "</font>\n",
    "\n",
    "1. Open the weather CSV (path: `../data/weather.csv`) and store it in a variable called `weather`.\n",
    "2. Take a look at the \"month\" column. Observe that its values are numeric, not strings. How do you think these values relate to months of the year?\n",
    "3. Create a mapping from each number to the corresponding month name, as a dictionary. For example, one of the keys would be `5` and its value would be `May`. Store it in a variable called `month_mapping`.\n",
    "4. Use the `.replace` method to overwrite the current month column with the month names as strings, using your newly created mapping."
   ]
  },
  {
   "cell_type": "markdown",
   "metadata": {
    "slideshow": {
     "slide_type": "slide"
    }
   },
   "source": [
    "# Questions\n",
    "\n",
    "Are there any questions up to this point?\n",
    "\n",
    "<img src=\"images/any_questions.png\" style=\"width: 1000px;\"/>"
   ]
  }
 ],
 "metadata": {
  "celltoolbar": "Slideshow",
  "kernelspec": {
   "display_name": "Python 3 (ipykernel)",
   "language": "python",
   "name": "python3"
  },
  "language_info": {
   "codemirror_mode": {
    "name": "ipython",
    "version": 3
   },
   "file_extension": ".py",
   "mimetype": "text/x-python",
   "name": "python",
   "nbconvert_exporter": "python",
   "pygments_lexer": "ipython3",
   "version": "3.10.10"
  },
  "rise": {
   "autolaunch": false,
   "transition": "none"
  }
 },
 "nbformat": 4,
 "nbformat_minor": 4
}

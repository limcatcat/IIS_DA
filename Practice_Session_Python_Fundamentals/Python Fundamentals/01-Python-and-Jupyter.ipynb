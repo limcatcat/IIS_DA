{
 "cells": [
  {
   "cell_type": "markdown",
   "metadata": {
    "slideshow": {
     "slide_type": "slide"
    }
   },
   "source": [
    "# Python and Jupyter Overview"
   ]
  },
  {
   "cell_type": "markdown",
   "metadata": {
    "slideshow": {
     "slide_type": "slide"
    }
   },
   "source": [
    "## Python"
   ]
  },
  {
   "cell_type": "markdown",
   "metadata": {
    "slideshow": {
     "slide_type": "slide"
    }
   },
   "source": [
    "### Python is..."
   ]
  },
  {
   "cell_type": "markdown",
   "metadata": {
    "slideshow": {
     "slide_type": "fragment"
    }
   },
   "source": [
    "* a *high-level*, *open-source*, *easy-to-learn*, *interpreted* programming language"
   ]
  },
  {
   "cell_type": "markdown",
   "metadata": {
    "slideshow": {
     "slide_type": "fragment"
    }
   },
   "source": [
    "* a really good choice for almost any programming task"
   ]
  },
  {
   "cell_type": "markdown",
   "metadata": {
    "slideshow": {
     "slide_type": "fragment"
    }
   },
   "source": [
    "* a very popular and effective choice for data science tasks"
   ]
  },
  {
   "cell_type": "markdown",
   "metadata": {
    "slideshow": {
     "slide_type": "slide"
    }
   },
   "source": [
    "According to [StackOverflow](https://insights.stackoverflow.com/trends?tags=python%2Cjavascript%2Cjava%2Cc%2Cr), more than 16 percent of StackOverflow questions were tagged with \"python\" in mid 2021. All other languages fell well short of this number. And the trend continues:"
   ]
  },
  {
   "cell_type": "markdown",
   "metadata": {
    "slideshow": {
     "slide_type": "fragment"
    }
   },
   "source": [
    "<center><img src=\"images/so_trends.png\" style=\"width: 800px;\"/></center>"
   ]
  },
  {
   "cell_type": "markdown",
   "metadata": {
    "cell_style": "split",
    "slideshow": {
     "slide_type": "slide"
    }
   },
   "source": [
    "<center>Python</center>\n",
    "<center><img src=\"images/so_trends_python.png\" alt=\"Drawing\" style=\"width: 600px;\"/></center>"
   ]
  },
  {
   "cell_type": "markdown",
   "metadata": {
    "cell_style": "split",
    "slideshow": {
     "slide_type": "fragment"
    }
   },
   "source": [
    "<center>R\n",
    "<img src=\"images/so_trends_r.png\" alt=\"Drawing\" style=\"width: 600px;\"/></center>"
   ]
  },
  {
   "cell_type": "markdown",
   "metadata": {
    "cell_style": "split",
    "slideshow": {
     "slide_type": "fragment"
    }
   },
   "source": [
    "<center>Java\n",
    "<img src=\"images/so_trends_java.png\" alt=\"Drawing\" style=\"width: 600px;\"/></center>"
   ]
  },
  {
   "cell_type": "markdown",
   "metadata": {
    "cell_style": "split",
    "slideshow": {
     "slide_type": "fragment"
    }
   },
   "source": [
    "\n",
    "<center>Javascript\n",
    "<img src=\"images/so_trends_javascript.png\" alt=\"Drawing\" style=\"width: 600px;\"/></center>"
   ]
  },
  {
   "cell_type": "markdown",
   "metadata": {
    "slideshow": {
     "slide_type": "slide"
    }
   },
   "source": [
    "### Python in the real world"
   ]
  },
  {
   "cell_type": "markdown",
   "metadata": {
    "slideshow": {
     "slide_type": "fragment"
    }
   },
   "source": [
    "#### General\n",
    "\n",
    "Python is one of the *the most popular programming languages in the world*. It's commonly used for:\n",
    "\n",
    "* (Web) Application Development\n",
    "* Scientific Computations\n",
    "* Data Science\n",
    "* DevOps & Automation\n",
    "* Robotics\n",
    "* Scripting\n"
   ]
  },
  {
   "cell_type": "markdown",
   "metadata": {
    "slideshow": {
     "slide_type": "slide"
    }
   },
   "source": [
    "#### Data Science\n",
    "\n",
    "As previously mentioned, Python is also a popular choice in data science. For reference:"
   ]
  },
  {
   "cell_type": "markdown",
   "metadata": {
    "slideshow": {
     "slide_type": "fragment"
    }
   },
   "source": [
    "  * According to the [Anaconda State of Data Science 2021 Report](https://www.anaconda.com/state-of-data-science-2021), **85% of respondents** said they use Python (always, frequently or sometimes) in their projects, compared to 62% for SQL and 52% for R, making Python the most popular language included in the survey."
   ]
  },
  {
   "cell_type": "markdown",
   "metadata": {
    "slideshow": {
     "slide_type": "fragment"
    }
   },
   "source": [
    "  * Also, as of 2021, 71% of educators said they are teaching Python, and 88% of students reported being taught Python in preparation to enter the data science/ML field."
   ]
  },
  {
   "cell_type": "markdown",
   "metadata": {
    "slideshow": {
     "slide_type": "slide"
    }
   },
   "source": [
    "### Why are data scientists choosing Python?"
   ]
  },
  {
   "cell_type": "markdown",
   "metadata": {
    "slideshow": {
     "slide_type": "fragment"
    }
   },
   "source": [
    "  * It can do anything...so everybody uses it\n",
    " "
   ]
  },
  {
   "cell_type": "markdown",
   "metadata": {
    "slideshow": {
     "slide_type": "fragment"
    }
   },
   "source": [
    "  * Open-source and great community support"
   ]
  },
  {
   "cell_type": "markdown",
   "metadata": {
    "slideshow": {
     "slide_type": "fragment"
    }
   },
   "source": [
    "  * Simple syntax, readability and ease-of-use"
   ]
  },
  {
   "cell_type": "markdown",
   "metadata": {
    "slideshow": {
     "slide_type": "fragment"
    }
   },
   "source": [
    "  * Strength in numeric computatations and cutting edge data science libraries"
   ]
  },
  {
   "cell_type": "markdown",
   "metadata": {
    "slideshow": {
     "slide_type": "slide"
    }
   },
   "source": [
    "## Jupyter"
   ]
  },
  {
   "cell_type": "markdown",
   "metadata": {
    "slideshow": {
     "slide_type": "slide"
    }
   },
   "source": [
    "### Jupyter is..."
   ]
  },
  {
   "cell_type": "markdown",
   "metadata": {
    "slideshow": {
     "slide_type": "fragment"
    }
   },
   "source": [
    "* a *language-agnostic integrated development environment (IDE)* specializing in **notebooks** that allow to combine code and documentation"
   ]
  },
  {
   "cell_type": "markdown",
   "metadata": {
    "slideshow": {
     "slide_type": "fragment"
    }
   },
   "source": [
    "* the default development environment in our Azure Machine Learning Workbench"
   ]
  },
  {
   "cell_type": "markdown",
   "metadata": {
    "slideshow": {
     "slide_type": "fragment"
    }
   },
   "source": [
    "* a popular choice among data scientists using Python"
   ]
  },
  {
   "cell_type": "markdown",
   "metadata": {
    "slideshow": {
     "slide_type": "slide"
    }
   },
   "source": [
    "### Why are data scientists choosing Jupyter?"
   ]
  },
  {
   "cell_type": "markdown",
   "metadata": {
    "slideshow": {
     "slide_type": "fragment"
    }
   },
   "source": [
    "* Ad-hoc analyses and science development"
   ]
  },
  {
   "cell_type": "markdown",
   "metadata": {
    "slideshow": {
     "slide_type": "fragment"
    }
   },
   "source": [
    "* Embedded data visualizations"
   ]
  },
  {
   "cell_type": "markdown",
   "metadata": {
    "slideshow": {
     "slide_type": "fragment"
    }
   },
   "source": [
    "* Documentation of code with accompanying comments"
   ]
  },
  {
   "cell_type": "markdown",
   "metadata": {
    "slideshow": {
     "slide_type": "fragment"
    }
   },
   "source": [
    "* Flexibility through extensions"
   ]
  },
  {
   "cell_type": "markdown",
   "metadata": {
    "slideshow": {
     "slide_type": "slide"
    }
   },
   "source": [
    "## Questions\n",
    "\n",
    "Are there any questions up to this point?\n",
    "\n",
    "<img src=\"images/any_questions.png\" style=\"width: 1000px;\"/>"
   ]
  },
  {
   "cell_type": "markdown",
   "metadata": {
    "slideshow": {
     "slide_type": "slide"
    }
   },
   "source": [
    "### Jupyter Basics"
   ]
  },
  {
   "cell_type": "markdown",
   "metadata": {
    "slideshow": {
     "slide_type": "slide"
    }
   },
   "source": [
    "#### Jupyter File Structure"
   ]
  },
  {
   "cell_type": "markdown",
   "metadata": {
    "slideshow": {
     "slide_type": "fragment"
    }
   },
   "source": [
    "As you can see, Jupyter displays a file browser when it launches:\n",
    "\n",
    "![jupyter-file-structure](images/jupyter-file-structure.jpg)"
   ]
  },
  {
   "cell_type": "markdown",
   "metadata": {
    "slideshow": {
     "slide_type": "slide"
    }
   },
   "source": [
    "#### Jupyter Notebook"
   ]
  },
  {
   "cell_type": "markdown",
   "metadata": {
    "slideshow": {
     "slide_type": "fragment"
    }
   },
   "source": [
    "The **notebook** is the core file used to interact with Python from Jupyter. A few details:"
   ]
  },
  {
   "cell_type": "markdown",
   "metadata": {
    "slideshow": {
     "slide_type": "fragment"
    }
   },
   "source": [
    "* Notebooks allow the writing AND running of Python code"
   ]
  },
  {
   "cell_type": "markdown",
   "metadata": {
    "slideshow": {
     "slide_type": "fragment"
    }
   },
   "source": [
    "* Notebooks are organized by **cells** - both code and commentary text go into the cells"
   ]
  },
  {
   "cell_type": "markdown",
   "metadata": {
    "slideshow": {
     "slide_type": "fragment"
    }
   },
   "source": [
    "* All notebook files have the extension `.ipynb`"
   ]
  },
  {
   "cell_type": "markdown",
   "metadata": {
    "slideshow": {
     "slide_type": "slide"
    }
   },
   "source": [
    "A new Jupyter Notebook can be opened by **navigating into the desired folder**, and **then**:\n",
    "1. Clicking on the \"+\" button in the top-left corner\n",
    "2. Under the \"Notebook\" header on the right side, clicking on \"Python 3 (DS Workshop)\"\n",
    "\n",
    "![open-jupyter-notebook.jpg](images/open-jupyter-notebook.jpg)"
   ]
  },
  {
   "cell_type": "markdown",
   "metadata": {
    "slideshow": {
     "slide_type": "slide"
    }
   },
   "source": [
    "This will open a new Jupyter Notebook with a Python 3 kernel:\n",
    "\n",
    "![new-jupyter-notebook](images/new-jupyter-notebook.jpg)"
   ]
  },
  {
   "cell_type": "markdown",
   "metadata": {
    "slideshow": {
     "slide_type": "slide"
    }
   },
   "source": [
    "#### Jupyter Notebook Cells"
   ]
  },
  {
   "cell_type": "markdown",
   "metadata": {
    "slideshow": {
     "slide_type": "fragment"
    }
   },
   "source": [
    "As previously mentioned, Jupyter Notebooks are organized by **cells**. These cells are at the core of the Jupyter Notebook:"
   ]
  },
  {
   "cell_type": "markdown",
   "metadata": {
    "slideshow": {
     "slide_type": "fragment"
    }
   },
   "source": [
    "* When using Jupyter Notebooks, all Python code is typed into and run from a cell"
   ]
  },
  {
   "cell_type": "markdown",
   "metadata": {
    "slideshow": {
     "slide_type": "fragment"
    }
   },
   "source": [
    "* Comments, markdown and even HTML can also be rendered within a cell"
   ]
  },
  {
   "cell_type": "markdown",
   "metadata": {
    "slideshow": {
     "slide_type": "slide"
    }
   },
   "source": [
    "#### Code Cells\n",
    "\n",
    "By default, all cells are code cells. This means Python code can be run by simply:\n",
    "\n",
    "1. Clicking on a cell's input area\n",
    "2. Typing Python code into the cell\n",
    "3. Pressing `CTRL + Enter` to run the code"
   ]
  },
  {
   "cell_type": "markdown",
   "metadata": {
    "slideshow": {
     "slide_type": "fragment"
    }
   },
   "source": [
    "The results of the code will be printed to the output area:\n",
    "\n",
    "![python-code-cell.png](images/python-code-cell.png)"
   ]
  },
  {
   "cell_type": "markdown",
   "metadata": {
    "slideshow": {
     "slide_type": "slide"
    }
   },
   "source": [
    "#### Comment/Markdown Cells\n",
    "\n",
    "Cells can be converted to text-oriented cells by:\n",
    "\n",
    "1. Selecting a cell by clicking on it\n",
    "2. Clicking the \"Code\" dropdown on the edit panel\n",
    "3. Clicking the \"Markdown\" option\n",
    "\n",
    "![markdown-cell-selection.png](images/markdown-cell-selection.jpg)"
   ]
  },
  {
   "cell_type": "markdown",
   "metadata": {
    "slideshow": {
     "slide_type": "slide"
    }
   },
   "source": [
    "Text can then be typed into these cells (can use Markdown for styling):\n",
    "\n",
    "![markdown-cell-unrendered.png](images/markdown-cell-unrendered.png)"
   ]
  },
  {
   "cell_type": "markdown",
   "metadata": {
    "slideshow": {
     "slide_type": "slide"
    }
   },
   "source": [
    "And it can be rendered by pressing `CTRL + Enter`:\n",
    "\n",
    "![markdown-cell-rendered.png](images/markdown-cell-rendered.png)"
   ]
  },
  {
   "cell_type": "markdown",
   "metadata": {
    "slideshow": {
     "slide_type": "slide"
    }
   },
   "source": [
    "#### Inserting New Cells\n",
    "\n",
    "New cells can be inserted by:\n",
    "\n",
    "1. Selecting a cell by clicking on it\n",
    "2. Clicking the \"+\" button in the notebook menu at the top to Insert a new cell below\n",
    "3. Or by using the shortcut keys `a` for \"Insert cell **a**bove\" or `b` for \"Insert cell **b**elow\"\n",
    "\n",
    "![insert-new-cell.png](images/insert-new-cell.jpg)"
   ]
  },
  {
   "cell_type": "markdown",
   "metadata": {
    "slideshow": {
     "slide_type": "slide"
    }
   },
   "source": [
    "### Additional Tips"
   ]
  },
  {
   "cell_type": "markdown",
   "metadata": {
    "slideshow": {
     "slide_type": "fragment"
    }
   },
   "source": [
    "1. Notebooks can be saved by clicking \"File\" -> \"Save Notebook\" or via the Shortcut `Ctrl-s`"
   ]
  },
  {
   "cell_type": "markdown",
   "metadata": {
    "cell_style": "center",
    "slideshow": {
     "slide_type": "fragment"
    }
   },
   "source": [
    "2. There are numerous keyboard shortcuts to speed up common operations\n"
   ]
  },
  {
   "cell_type": "markdown",
   "metadata": {
    "cell_style": "center",
    "slideshow": {
     "slide_type": "subslide"
    }
   },
   "source": [
    "### Some of the most useful shortcuts are:  "
   ]
  },
  {
   "cell_type": "markdown",
   "metadata": {
    "cell_style": "split",
    "slideshow": {
     "slide_type": "fragment"
    }
   },
   "source": [
    "* `a` -> add **cell above**  "
   ]
  },
  {
   "cell_type": "markdown",
   "metadata": {
    "cell_style": "split",
    "slideshow": {
     "slide_type": "fragment"
    }
   },
   "source": [
    "* `b` -> add **cell below**"
   ]
  },
  {
   "cell_type": "markdown",
   "metadata": {
    "cell_style": "split",
    "slideshow": {
     "slide_type": "fragment"
    }
   },
   "source": [
    "* `m` -> change cell format to **markdown**"
   ]
  },
  {
   "cell_type": "markdown",
   "metadata": {
    "cell_style": "split",
    "slideshow": {
     "slide_type": "fragment"
    }
   },
   "source": [
    "* `y` -> change cell format to **code**"
   ]
  },
  {
   "cell_type": "markdown",
   "metadata": {
    "cell_style": "split",
    "slideshow": {
     "slide_type": "fragment"
    }
   },
   "source": [
    "* `Ctrl-Enter` -> **Run** the current cell"
   ]
  },
  {
   "cell_type": "markdown",
   "metadata": {
    "cell_style": "split",
    "slideshow": {
     "slide_type": "fragment"
    }
   },
   "source": [
    "* `Shift-Enter` -> **Run** the current cell **and move focus** to the next cell"
   ]
  },
  {
   "cell_type": "markdown",
   "metadata": {
    "cell_style": "split",
    "slideshow": {
     "slide_type": "fragment"
    }
   },
   "source": [
    "* `Ctrl-s` -> **save** current state of the notebook"
   ]
  },
  {
   "cell_type": "markdown",
   "metadata": {
    "slideshow": {
     "slide_type": "slide"
    }
   },
   "source": [
    "## Questions\n",
    "\n",
    "Are there any questions up to here?\n",
    "\n",
    "<img src=\"images/any_questions.png\" style=\"width: 1000px;\"/>"
   ]
  },
  {
   "cell_type": "markdown",
   "metadata": {
    "cell_style": "center",
    "slideshow": {
     "slide_type": "subslide"
    }
   },
   "source": [
    "### A few more useful shortcuts:  "
   ]
  },
  {
   "cell_type": "markdown",
   "metadata": {
    "cell_style": "split",
    "slideshow": {
     "slide_type": "fragment"
    }
   },
   "source": [
    "* `Esc` -> **exit** cell edit mode  "
   ]
  },
  {
   "cell_type": "markdown",
   "metadata": {
    "cell_style": "split",
    "slideshow": {
     "slide_type": "fragment"
    }
   },
   "source": [
    "* `Enter` -> **enter** cell edit mode  "
   ]
  },
  {
   "cell_type": "markdown",
   "metadata": {
    "cell_style": "split",
    "slideshow": {
     "slide_type": "fragment"
    }
   },
   "source": [
    "* `c` -> **copy** currently selected cell  "
   ]
  },
  {
   "cell_type": "markdown",
   "metadata": {
    "cell_style": "split",
    "slideshow": {
     "slide_type": "fragment"
    }
   },
   "source": [
    "* `v` -> **paste** copied cell below  "
   ]
  },
  {
   "cell_type": "markdown",
   "metadata": {
    "cell_style": "split",
    "slideshow": {
     "slide_type": "fragment"
    }
   },
   "source": [
    "* `dd` -> **delete** selected cell  "
   ]
  },
  {
   "cell_type": "markdown",
   "metadata": {
    "cell_style": "center",
    "slideshow": {
     "slide_type": "fragment"
    }
   },
   "source": [
    "**Bonus Question:**  \n",
    "Who can tell me what the following sequence of keystrokes will do?\n",
    "\n",
    "* `Esc, b, m, Enter, ## You are doing great!, Ctrl+Enter`"
   ]
  },
  {
   "cell_type": "markdown",
   "metadata": {
    "slideshow": {
     "slide_type": "slide"
    }
   },
   "source": [
    "## Questions\n",
    "\n",
    "Are there any questions up to here?\n",
    "\n",
    "<img src=\"images/any_questions.png\" style=\"width: 1000px;\"/>"
   ]
  },
  {
   "cell_type": "markdown",
   "metadata": {
    "slideshow": {
     "slide_type": "skip"
    }
   },
   "source": [
    "# Bonus: Markdown Cheatsheet\n",
    "\n",
    "Dieser Abschnitt kann als Referenz für die häufigsten Markdown Formatierungs-Elemente genutzt werden. Für eine interaktive Einführung ist das \"10 Minuten Markdown Tutorial\" von [commonmark.org](https://commonmark.org/help/) sehr zu empfehlen.\n",
    "\n",
    "\n",
    "# Heading\n",
    "Um einen **Zeilenumbruch** zu erzwingen, entweder zwei Leerzeichen am Ende der Zeile einfügen...  \n",
    "Oder den HTML Zeilenumbruch Tag `<br>` nutzen <br>\n",
    "Sobald mindestens eine Leerzeile zwischen den Zeilen ist, beginnt automatisch ein neuer Paragraph.\n",
    "\n",
    "Dieser Text hier ist in einem neuen Absatz.."
   ]
  },
  {
   "cell_type": "markdown",
   "metadata": {
    "slideshow": {
     "slide_type": "skip"
    }
   },
   "source": [
    "## Sub-Heading\n",
    "Fette und kursive Formatierung können angewandt werden, indem der Text durch `**Bold Text**` bzw. `_Italic Text_` umrandet wird. Das ist praktisch um besondere Stichworte hervorzuheben. \n",
    "\n",
    "**Bold Text**  \n",
    "\n",
    "_Italic Text_  \n",
    "\n",
    "### Darstellung von Listen in Markdown\n",
    "\n",
    "Numbered List:\n",
    "\n",
    "1. Erstes Element\n",
    "2. Zweites Element\n",
    "3. Drittes Element..\n",
    "\n",
    "Bulletpoint List:\n",
    "\n",
    "* Item One\n",
    "* Item Two\n",
    "    * Indented Item\n",
    "    "
   ]
  },
  {
   "cell_type": "markdown",
   "metadata": {
    "slideshow": {
     "slide_type": "skip"
    }
   },
   "source": [
    "### Bilder Einbinden\n",
    "Um ein Bild in ein Notebook mit einzubinden, muss der Pfad zu der Bild Datei relativ zu dem Notebook angegeben werden. Der Pfad `./images/python-logo.png` bedeutet, dass das referenzierte Bild mit dem Dateinamen `python-logo.png` in dem Unterordner `images` liegt. Das `./` am Anfang verweist auf den selben Ordner, in dem sich das Notebook befindet.  \n",
    "\n",
    "Diagram: Alles in Python ist ein Objekt  \n",
    "![Python Logo](./images/concept_map.jpg)\n",
    "\n",
    "Für mehr Kontrolle, z.B. über die Größe und Position eines Bildes können auch HTML tags genutzt werden:  \n",
    "<img src=\"./images/python-logo.png\" width=\"100px\"/>    "
   ]
  }
 ],
 "metadata": {
  "celltoolbar": "Slideshow",
  "kernelspec": {
   "display_name": "Python 3 (ipykernel)",
   "language": "python",
   "name": "python3"
  },
  "language_info": {
   "codemirror_mode": {
    "name": "ipython",
    "version": 3
   },
   "file_extension": ".py",
   "mimetype": "text/x-python",
   "name": "python",
   "nbconvert_exporter": "python",
   "pygments_lexer": "ipython3",
   "version": "3.10.10"
  },
  "rise": {
   "autolaunch": false,
   "transition": "none"
  }
 },
 "nbformat": 4,
 "nbformat_minor": 4
}

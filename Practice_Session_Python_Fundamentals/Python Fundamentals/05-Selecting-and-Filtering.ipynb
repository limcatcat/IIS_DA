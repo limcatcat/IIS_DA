{
 "cells": [
  {
   "cell_type": "code",
   "execution_count": null,
   "metadata": {
    "slideshow": {
     "slide_type": "skip"
    }
   },
   "outputs": [],
   "source": [
    "from slide_tools import hide_code_in_slideshow"
   ]
  },
  {
   "cell_type": "markdown",
   "metadata": {
    "slideshow": {
     "slide_type": "slide"
    }
   },
   "source": [
    "# Selecting and Filtering"
   ]
  },
  {
   "cell_type": "markdown",
   "metadata": {
    "slideshow": {
     "slide_type": "slide"
    }
   },
   "source": [
    "## Applied Review"
   ]
  },
  {
   "cell_type": "markdown",
   "metadata": {
    "slideshow": {
     "slide_type": "slide"
    }
   },
   "source": [
    "### Data Structures and the DataFrame Class"
   ]
  },
  {
   "cell_type": "markdown",
   "metadata": {
    "slideshow": {
     "slide_type": "fragment"
    }
   },
   "source": [
    "* Data is frequently represented inside a **DataFrame** - a class from the `pandas` library that is similar to a *table*"
   ]
  },
  {
   "cell_type": "markdown",
   "metadata": {
    "slideshow": {
     "slide_type": "fragment"
    }
   },
   "source": [
    "* Each DataFrame object has rows and columns"
   ]
  },
  {
   "cell_type": "markdown",
   "metadata": {
    "slideshow": {
     "slide_type": "fragment"
    }
   },
   "source": [
    "* The DataFrame class has methods (built-in operations) for common tasks, and attributes (stored data) of common information"
   ]
  },
  {
   "cell_type": "markdown",
   "metadata": {
    "slideshow": {
     "slide_type": "slide"
    }
   },
   "source": [
    "### Importing Data"
   ]
  },
  {
   "cell_type": "markdown",
   "metadata": {
    "slideshow": {
     "slide_type": "fragment"
    }
   },
   "source": [
    "* Tabular data can be imported into DataFrames using the `pd.read_csv()` function - there are parameters for different options"
   ]
  },
  {
   "cell_type": "code",
   "execution_count": null,
   "metadata": {
    "slideshow": {
     "slide_type": "-"
    }
   },
   "outputs": [],
   "source": [
    "import pandas as pd\n",
    "planes_df = pd.read_csv('data/planes.csv')\n",
    "planes_df.head()"
   ]
  },
  {
   "cell_type": "markdown",
   "metadata": {
    "slideshow": {
     "slide_type": "fragment"
    }
   },
   "source": [
    "* Common parameters are `sep`, `header` and `parse_dates`"
   ]
  },
  {
   "cell_type": "markdown",
   "metadata": {
    "slideshow": {
     "slide_type": "slide"
    }
   },
   "source": [
    "## Selecting Data"
   ]
  },
  {
   "cell_type": "markdown",
   "metadata": {
    "slideshow": {
     "slide_type": "slide"
    }
   },
   "source": [
    "### Subsetting Dimensions"
   ]
  },
  {
   "cell_type": "markdown",
   "metadata": {
    "slideshow": {
     "slide_type": "fragment"
    }
   },
   "source": [
    "* We don't always want all of the data in a DataFrame, so we need to take subsets of the DataFrame."
   ]
  },
  {
   "cell_type": "markdown",
   "metadata": {
    "slideshow": {
     "slide_type": "fragment"
    }
   },
   "source": [
    "* In general, **subsetting** is extracting a small portion of a DataFrame -- making the DataFrame smaller."
   ]
  },
  {
   "cell_type": "markdown",
   "metadata": {
    "slideshow": {
     "slide_type": "fragment"
    }
   },
   "source": [
    "* Since the DataFrame is two-dimensional, there are two dimensions on which to subset."
   ]
  },
  {
   "cell_type": "markdown",
   "metadata": {
    "slideshow": {
     "slide_type": "slide"
    }
   },
   "source": [
    "**Dimension 1:** We may only want to consider certain *variables*."
   ]
  },
  {
   "cell_type": "markdown",
   "metadata": {
    "slideshow": {
     "slide_type": "fragment"
    }
   },
   "source": [
    "For example, in this airline dataset we may only care about the `year` and `engines` variables:"
   ]
  },
  {
   "cell_type": "code",
   "execution_count": null,
   "metadata": {
    "hide_input": true,
    "slideshow": {
     "slide_type": "-"
    }
   },
   "outputs": [],
   "source": [
    "hide_code_in_slideshow()\n",
    "\n",
    "planes_df.head().style.apply(lambda x: ['background: lightblue' if x.name == 'engines' or x.name == 'year' else '' for i,_ in x.iteritems()]).format('{:.1f}', subset = ['year',])"
   ]
  },
  {
   "cell_type": "markdown",
   "metadata": {
    "slideshow": {
     "slide_type": "-"
    }
   },
   "source": [
    "We call this **selecting** columns/variables -- this is similar to SQL's `SELECT` statement"
   ]
  },
  {
   "cell_type": "markdown",
   "metadata": {
    "slideshow": {
     "slide_type": "slide"
    }
   },
   "source": [
    "**Dimension 2:** We may only want to consider certain *cases*."
   ]
  },
  {
   "cell_type": "markdown",
   "metadata": {
    "slideshow": {
     "slide_type": "fragment"
    }
   },
   "source": [
    "For example, we may only care about the cases where the manufacturer is Embraer."
   ]
  },
  {
   "cell_type": "code",
   "execution_count": null,
   "metadata": {
    "slideshow": {
     "slide_type": "-"
    }
   },
   "outputs": [],
   "source": [
    "hide_code_in_slideshow()\n",
    "planes_df.head().style.apply(lambda x: ['background: lightgreen' if i in [0, 4] else '' for i,_ in x.iteritems()]).format('{:.1f}', subset = ['year',])"
   ]
  },
  {
   "cell_type": "markdown",
   "metadata": {
    "slideshow": {
     "slide_type": "fragment"
    }
   },
   "source": [
    "We call this **filtering** or **slicing** -- this is similar to SQL's `WHERE` statement"
   ]
  },
  {
   "cell_type": "markdown",
   "metadata": {
    "slideshow": {
     "slide_type": "slide"
    }
   },
   "source": [
    "And we can combine these two options to subset in both dimensions -- the `year` and `engine` variables where the manufacturer is Embraer"
   ]
  },
  {
   "cell_type": "code",
   "execution_count": null,
   "metadata": {
    "hide_input": true,
    "slideshow": {
     "slide_type": "-"
    }
   },
   "outputs": [],
   "source": [
    "hide_code_in_slideshow()\n",
    "\n",
    "planes_df.head().style.apply(lambda x: ['background: lightgreen' if i in [0, 4] else '' for i,_ in x.iteritems()]).apply(lambda x: ['background: lightblue' if x.name == 'engines' or x.name == 'year' else '' for i,_ in x.iteritems()]).apply(lambda x: ['background: teal' if i in [0, 4] and (x.name == 'engines' or x.name == 'year') else '' for i,_ in x.iteritems()]).format('{:.1f}', subset = ['year',])"
   ]
  },
  {
   "cell_type": "code",
   "execution_count": null,
   "metadata": {
    "scrolled": true,
    "slideshow": {
     "slide_type": "-"
    }
   },
   "outputs": [],
   "source": [
    "hide_code_in_slideshow()\n",
    "planes_df.head().style.apply(lambda x: ['background: teal' if i in [0, 4] and (x.name == 'engines' or x.name == 'year') else '' for i,_ in x.iteritems()]).format('{:.1f}', subset = ['year',])"
   ]
  },
  {
   "cell_type": "markdown",
   "metadata": {
    "slideshow": {
     "slide_type": "slide"
    }
   },
   "source": [
    "### Subsetting into a New DataFrame"
   ]
  },
  {
   "cell_type": "markdown",
   "metadata": {
    "slideshow": {
     "slide_type": "fragment"
    }
   },
   "source": [
    "In this example we want to do two things on our airplane sample dataset:\n",
    "\n",
    "  1. **select** the `year` and `engines` variables\n",
    "  2. **filter** to cases where the manufacturer is Embraer"
   ]
  },
  {
   "cell_type": "markdown",
   "metadata": {
    "slideshow": {
     "slide_type": "fragment"
    }
   },
   "source": [
    "But we don't just want to highlight the the desired cells. We want to return them as a new DataFrame we can continue to work with."
   ]
  },
  {
   "cell_type": "markdown",
   "metadata": {
    "slideshow": {
     "slide_type": "slide"
    }
   },
   "source": [
    "In other words, we want to turn this:"
   ]
  },
  {
   "cell_type": "code",
   "execution_count": null,
   "metadata": {
    "slideshow": {
     "slide_type": "-"
    }
   },
   "outputs": [],
   "source": [
    "planes_df.head()"
   ]
  },
  {
   "cell_type": "markdown",
   "metadata": {
    "slideshow": {
     "slide_type": "fragment"
    }
   },
   "source": [
    "Into this:"
   ]
  },
  {
   "cell_type": "code",
   "execution_count": null,
   "metadata": {
    "slideshow": {
     "slide_type": "-"
    }
   },
   "outputs": [],
   "source": [
    "hide_code_in_slideshow()\n",
    "sample_df = planes_df.head() \n",
    "cols = ['year', 'engines']\n",
    "filt = sample_df['manufacturer'] == 'EMBRAER'\n",
    "sample_df[cols][filt]"
   ]
  },
  {
   "cell_type": "markdown",
   "metadata": {
    "slideshow": {
     "slide_type": "slide"
    }
   },
   "source": [
    "So we really have a third need: return the resulting DataFrame so we can continue our analysis:\n",
    "\n",
    "  1. **select** the `year` and `engines` variables\n",
    "  2. **filter** to cases where the manufacturer is Embraer\n",
    "  3. Return a DataFrame to continue the analysis"
   ]
  },
  {
   "cell_type": "markdown",
   "metadata": {
    "slideshow": {
     "slide_type": "slide"
    }
   },
   "source": [
    "## Selecting Variables"
   ]
  },
  {
   "cell_type": "markdown",
   "metadata": {
    "slideshow": {
     "slide_type": "fragment"
    }
   },
   "source": [
    "We can select a single variable using bracket subsetting notation.  \n",
    "Let's use the familiar movies dataset again to illustrate this:"
   ]
  },
  {
   "cell_type": "code",
   "execution_count": null,
   "metadata": {
    "slideshow": {
     "slide_type": "-"
    }
   },
   "outputs": [],
   "source": [
    "movies_df = pd.read_csv('data/movies.csv')"
   ]
  },
  {
   "cell_type": "code",
   "execution_count": null,
   "metadata": {
    "slideshow": {
     "slide_type": "-"
    }
   },
   "outputs": [],
   "source": [
    "movies_df['director_name'].head()"
   ]
  },
  {
   "cell_type": "markdown",
   "metadata": {
    "slideshow": {
     "slide_type": "fragment"
    }
   },
   "source": [
    "Notice the `head()` method also works on `movies_df['director_name']` to return the first five elements."
   ]
  },
  {
   "cell_type": "markdown",
   "metadata": {
    "slideshow": {
     "slide_type": "fragment"
    }
   },
   "source": [
    "<font class=\"question\">\n",
    "    <strong>Question</strong>:<br><em>What is the data type of <code>movies_df['director_name']</code>?</em>\n",
    "</font>"
   ]
  },
  {
   "cell_type": "markdown",
   "metadata": {
    "slideshow": {
     "slide_type": "slide"
    }
   },
   "source": [
    "<font class=\"question\">\n",
    "    <strong>Question</strong>:<br><em>What is the data type of <code>movies_df['director_name']</code>?</em>\n",
    "</font>"
   ]
  },
  {
   "cell_type": "markdown",
   "metadata": {
    "slideshow": {
     "slide_type": "fragment"
    }
   },
   "source": [
    "The operation `df['col_name']` returns on object of type `pandas.core.series.Series`. That is, it returns a \"Series\", rather than a DataFrame."
   ]
  },
  {
   "cell_type": "code",
   "execution_count": null,
   "metadata": {
    "slideshow": {
     "slide_type": "-"
    }
   },
   "outputs": [],
   "source": [
    "type(movies_df['director_name'])"
   ]
  },
  {
   "cell_type": "markdown",
   "metadata": {
    "slideshow": {
     "slide_type": "slide"
    }
   },
   "source": [
    "That is okay -- the Series is like the younger sibling of a DataFrame:"
   ]
  },
  {
   "cell_type": "markdown",
   "metadata": {
    "slideshow": {
     "slide_type": "fragment"
    }
   },
   "source": [
    "* A Series is a **one-dimensional** data structure -- similar to a Python `list`"
   ]
  },
  {
   "cell_type": "markdown",
   "metadata": {
    "slideshow": {
     "slide_type": "fragment"
    }
   },
   "source": [
    "* Note that all objects in a Series must be of the **same type**"
   ]
  },
  {
   "cell_type": "markdown",
   "metadata": {
    "slideshow": {
     "slide_type": "fragment"
    }
   },
   "source": [
    "* Each DataFrame can be thought of as a collection of equal-length Series (plus Index)"
   ]
  },
  {
   "cell_type": "markdown",
   "metadata": {
    "slideshow": {
     "slide_type": "slide"
    }
   },
   "source": [
    "This visual representation of a Series and DataFrame may be helpful:\n",
    "\n",
    "<center>\n",
    "<img src=\"images/dataframe-series.png\" alt=\"dataframe-series.png\" width=\"600\" height=\"600\">\n",
    "</center>"
   ]
  },
  {
   "cell_type": "markdown",
   "metadata": {
    "slideshow": {
     "slide_type": "slide"
    }
   },
   "source": [
    "We can select a single variable and return the values as a Series by passing the variable name as a `string`:"
   ]
  },
  {
   "cell_type": "code",
   "execution_count": null,
   "metadata": {
    "slideshow": {
     "slide_type": "-"
    }
   },
   "outputs": [],
   "source": [
    "movies_df['director_name'].head(3)"
   ]
  },
  {
   "cell_type": "code",
   "execution_count": null,
   "metadata": {
    "slideshow": {
     "slide_type": "-"
    }
   },
   "outputs": [],
   "source": [
    "type(movies_df['director_name'])"
   ]
  },
  {
   "cell_type": "markdown",
   "metadata": {
    "slideshow": {
     "slide_type": "fragment"
    }
   },
   "source": [
    "We can return one or more variables as a DataFrame by passing a `list` of variables names:"
   ]
  },
  {
   "cell_type": "code",
   "execution_count": null,
   "metadata": {
    "slideshow": {
     "slide_type": "-"
    }
   },
   "outputs": [],
   "source": [
    "movies_df[['director_name']].head(3)"
   ]
  },
  {
   "cell_type": "code",
   "execution_count": null,
   "metadata": {
    "slideshow": {
     "slide_type": "-"
    }
   },
   "outputs": [],
   "source": [
    "type(movies_df[['director_name']].head())"
   ]
  },
  {
   "cell_type": "markdown",
   "metadata": {
    "slideshow": {
     "slide_type": "slide"
    }
   },
   "source": [
    "<font class=\"question\">\n",
    "    <strong>Question</strong>:<br><em>What's another advantage of passing a <code>list</code> rather than a <code>string</code>?</em>\n",
    "</font>"
   ]
  },
  {
   "cell_type": "markdown",
   "metadata": {
    "slideshow": {
     "slide_type": "fragment"
    }
   },
   "source": [
    "Passing a list into the bracket subsetting notation allows us to select multiple variables at once:"
   ]
  },
  {
   "cell_type": "code",
   "execution_count": null,
   "metadata": {
    "slideshow": {
     "slide_type": "-"
    }
   },
   "outputs": [],
   "source": [
    "movies_df[['title','director_name']].head()"
   ]
  },
  {
   "cell_type": "markdown",
   "metadata": {
    "slideshow": {
     "slide_type": "slide"
    }
   },
   "source": [
    "As another example, let's first set the index again. And then assume we are only interested in the `year` each movie was produced, it's `duration` and the  `budget` used for producing it:"
   ]
  },
  {
   "cell_type": "code",
   "execution_count": null,
   "metadata": {
    "scrolled": true,
    "slideshow": {
     "slide_type": "-"
    }
   },
   "outputs": [],
   "source": [
    "movies_df = movies_df.set_index('title')\n",
    "movies_df[['year', 'duration', 'budget']].head()"
   ]
  },
  {
   "cell_type": "markdown",
   "metadata": {
    "slideshow": {
     "slide_type": "slide"
    }
   },
   "source": [
    "## Your Turn\n",
    "\n",
    "<img src=\"images/exercise.png\" style=\"width: 1000px;\"/>"
   ]
  },
  {
   "cell_type": "markdown",
   "metadata": {
    "slideshow": {
     "slide_type": "slide"
    }
   },
   "source": [
    "<font class=\"your_turn\">\n",
    "    Your Turn\n",
    "</font>\n",
    "\n",
    "\n",
    "1. Welche Art von Objekt ist ein DataFrame column?\n",
    "2. Wähle 3 Variablen aus dem Movies Dataset aus und speichere diese unter einer neuen Variable `columns_of_interest` ab.\n",
    "3. Wo ist der Fehler in dem folgenden Code?\n",
    "\n",
    "   ```python\n",
    "   planes_df['type', 'model']\n",
    "   ```"
   ]
  },
  {
   "cell_type": "markdown",
   "metadata": {
    "slideshow": {
     "slide_type": "slide"
    }
   },
   "source": [
    "## Subsetting Cases"
   ]
  },
  {
   "cell_type": "markdown",
   "metadata": {
    "slideshow": {
     "slide_type": "slide"
    }
   },
   "source": [
    "When we subset cases/records/rows two names are often used for this activity: **slicing** and **filtering**\n",
    "\n",
    "But *these two are not the same*:\n",
    "\n",
    "  * **slicing**, similar to row **indexing**, subsets cases by the _value of the Index_\n",
    "  * **filtering** subsets cases using a _conditional test_"
   ]
  },
  {
   "cell_type": "code",
   "execution_count": null,
   "metadata": {
    "slideshow": {
     "slide_type": "fragment"
    }
   },
   "outputs": [],
   "source": [
    "import pandas as pd\n",
    "movies_df = pd.read_csv('data/movies.csv')"
   ]
  },
  {
   "cell_type": "markdown",
   "metadata": {
    "slideshow": {
     "slide_type": "slide"
    }
   },
   "source": [
    "### Slicing Cases"
   ]
  },
  {
   "cell_type": "markdown",
   "metadata": {
    "slideshow": {
     "slide_type": "fragment"
    }
   },
   "source": [
    "Remember that all DataFrames have an Index:"
   ]
  },
  {
   "cell_type": "code",
   "execution_count": null,
   "metadata": {
    "slideshow": {
     "slide_type": "-"
    }
   },
   "outputs": [],
   "source": [
    "movies_df.head()"
   ]
  },
  {
   "cell_type": "markdown",
   "metadata": {
    "slideshow": {
     "slide_type": "slide"
    }
   },
   "source": [
    "We can **slice** cases/rows using the values in the Index and bracket subsetting notation.  \n",
    "It's recommended to use the `.loc` attribute of a dataframe to slice cases/rows:"
   ]
  },
  {
   "cell_type": "code",
   "execution_count": null,
   "metadata": {
    "slideshow": {
     "slide_type": "-"
    }
   },
   "outputs": [],
   "source": [
    "movies_df.loc[0:3]"
   ]
  },
  {
   "cell_type": "markdown",
   "metadata": {
    "slideshow": {
     "slide_type": "fragment"
    }
   },
   "source": [
    "Note that the last element here is _inclusive_."
   ]
  },
  {
   "cell_type": "markdown",
   "metadata": {
    "slideshow": {
     "slide_type": "slide"
    }
   },
   "source": [
    "We can also pass a `list` of Index values:"
   ]
  },
  {
   "cell_type": "code",
   "execution_count": null,
   "metadata": {
    "slideshow": {
     "slide_type": "-"
    }
   },
   "outputs": [],
   "source": [
    "movies_df.loc[[2, 4, 6, 8]]"
   ]
  },
  {
   "cell_type": "markdown",
   "metadata": {
    "slideshow": {
     "slide_type": "slide"
    }
   },
   "source": [
    "Initially the `.loc` attribute can seem strange. `loc` stands for \"location\". \n",
    "\n",
    "Wheres `[]` or _just the brackets_ notation is primarily used to select columns, the `.loc[]` syntax is used to access _rows_ of a DataFrame.  \n",
    "\n",
    "That said `.loc` is more flexible and allows to select _both_ rows and columns like so: \n",
    "```python\n",
    "df.loc['row_name','col_name']\n",
    "```\n",
    "\n",
    "Or multiple rows/columns by passing in a list of row/column names:\n",
    "```python\n",
    "df.loc[['row_1','row_2'],['col_1','col_2']]\n",
    "```"
   ]
  },
  {
   "cell_type": "markdown",
   "metadata": {
    "slideshow": {
     "slide_type": "fragment"
    }
   },
   "source": [
    "So everything that can be done with `[]` can also be done with `.loc[]`, but not the other way around. We can't use _just the brackets_ to explicitly select rows. So in practice `[]` is mostly a convenient shortcut for selecting columns which is what we do most of the time.  \n",
    "\n",
    "Both notations support filtering of records, which we will look at next."
   ]
  },
  {
   "cell_type": "markdown",
   "metadata": {
    "slideshow": {
     "slide_type": "slide"
    }
   },
   "source": [
    "### Filtering Cases"
   ]
  },
  {
   "cell_type": "markdown",
   "metadata": {
    "slideshow": {
     "slide_type": "fragment"
    }
   },
   "source": [
    "We can **filter** cases/rows _using a logical sequence equal in length_ to the number of rows in the DataFrame."
   ]
  },
  {
   "cell_type": "markdown",
   "metadata": {
    "slideshow": {
     "slide_type": "fragment"
    }
   },
   "source": [
    "Continuing our example, assume we want to determine for each movie whether it was produced in America, i.e. whether the `country` is USA. We can use the `country` Series together with a logical equivalency test to find the result for each row:"
   ]
  },
  {
   "cell_type": "code",
   "execution_count": null,
   "metadata": {
    "slideshow": {
     "slide_type": "-"
    }
   },
   "outputs": [],
   "source": [
    "movies_df['country'].head() == 'USA'"
   ]
  },
  {
   "cell_type": "markdown",
   "metadata": {
    "slideshow": {
     "slide_type": "slide"
    }
   },
   "source": [
    "We can use this resulting logical sequence to **filter** cases -- rows that are `True` will be returned while those that are `False` will be removed:"
   ]
  },
  {
   "cell_type": "code",
   "execution_count": null,
   "metadata": {
    "slideshow": {
     "slide_type": "-"
    }
   },
   "outputs": [],
   "source": [
    "filt = movies_df['country'] == 'USA'\n",
    "movies_df[filt].head()"
   ]
  },
  {
   "cell_type": "markdown",
   "metadata": {
    "slideshow": {
     "slide_type": "slide"
    }
   },
   "source": [
    "This is the same as doing:"
   ]
  },
  {
   "cell_type": "code",
   "execution_count": null,
   "metadata": {},
   "outputs": [],
   "source": [
    "movies_df.head()[[True,True,False,True,True]]"
   ]
  },
  {
   "cell_type": "markdown",
   "metadata": {
    "slideshow": {
     "slide_type": "slide"
    }
   },
   "source": [
    "This technique also works using the `.loc` attribute:"
   ]
  },
  {
   "cell_type": "code",
   "execution_count": null,
   "metadata": {
    "slideshow": {
     "slide_type": "-"
    }
   },
   "outputs": [],
   "source": [
    "filt = movies_df['country'] == 'USA'\n",
    "movies_df.loc[filt].head()"
   ]
  },
  {
   "cell_type": "markdown",
   "metadata": {
    "slideshow": {
     "slide_type": "slide"
    }
   },
   "source": [
    "Any conditional test can be used to **filter** DataFrame rows:"
   ]
  },
  {
   "cell_type": "code",
   "execution_count": null,
   "metadata": {
    "slideshow": {
     "slide_type": "-"
    }
   },
   "outputs": [],
   "source": [
    "filt = movies_df['year'] < 2002\n",
    "movies_df.loc[filt].head()"
   ]
  },
  {
   "cell_type": "markdown",
   "metadata": {
    "slideshow": {
     "slide_type": "slide"
    }
   },
   "source": [
    "And **multiple conditional tests** can be combined using logical operators:"
   ]
  },
  {
   "cell_type": "code",
   "execution_count": null,
   "metadata": {
    "slideshow": {
     "slide_type": "-"
    }
   },
   "outputs": [],
   "source": [
    "filt = (movies_df['year'] < 2002) & (movies_df['year'] > 1998)\n",
    "movies_df.loc[filt].head(4)"
   ]
  },
  {
   "cell_type": "markdown",
   "metadata": {
    "slideshow": {
     "slide_type": "fragment"
    }
   },
   "source": [
    "Note that each condition is wrapped in parentheses -- this is required when multiple tests are written directly next to each other."
   ]
  },
  {
   "cell_type": "markdown",
   "metadata": {
    "slideshow": {
     "slide_type": "slide"
    }
   },
   "source": [
    "Another approach that doesn't require the parantheses and helps with readability is to store each test's results in a separte filter variable and then combine them via another, final filter:"
   ]
  },
  {
   "cell_type": "code",
   "execution_count": null,
   "metadata": {
    "slideshow": {
     "slide_type": "-"
    }
   },
   "outputs": [],
   "source": [
    "filt1 = movies_df['year'] < 2002\n",
    "filt2 = movies_df['year'] > 1998\n",
    "filt  = filt1 & filt2\n",
    "movies_df.loc[filt].head(4)"
   ]
  },
  {
   "cell_type": "markdown",
   "metadata": {
    "slideshow": {
     "slide_type": "slide"
    }
   },
   "source": [
    "## Your Turn\n",
    "\n",
    "<img src=\"images/exercise.png\" style=\"width: 1000px;\"/>"
   ]
  },
  {
   "cell_type": "markdown",
   "metadata": {
    "slideshow": {
     "slide_type": "slide"
    }
   },
   "source": [
    "<font class=\"your_turn\">\n",
    "    Your Turn\n",
    "</font>\n",
    "\n",
    "1. Was ist der Unterschied zwischen **slicing** und **filtering**?\n",
    "2. Fülle die Lücken im folgenden Code Template aus, um alle Filme zu identifizieren, the einen IMDB Score von höher als 9 haben.\n",
    "```python\n",
    "filt = movies_df['___'] > 9\n",
    "movies_df.loc[filt]\n",
    "```\n",
    "3. Führe den Code aus. Wie viele Filme mit einem IMDB Rating über 9 gibt es? Ist das Ergebnis überraschend?\n",
    "4. Ändere den Filter so ab, dass nur Filme mit Score > 8.8 und mindestens 100 Reviews im Ergebnis Set übrig bleiben. Wie viele Filme in unserem Dataset erfüllen diese Anforderung?"
   ]
  },
  {
   "cell_type": "markdown",
   "metadata": {
    "slideshow": {
     "slide_type": "fragment"
    }
   },
   "source": [
    "#<span style='color: white'>\n",
    "filt1 = movies_df['imdb_score'] > 8.8\n",
    "filt2 = movies_df['num_reviews'] > 100\n",
    "filt = filt1 & filt2\n",
    "movies_df.loc[filt].shape\n",
    "#</span>"
   ]
  },
  {
   "cell_type": "markdown",
   "metadata": {
    "slideshow": {
     "slide_type": "slide"
    }
   },
   "source": [
    "### Selecting Variables and Filtering Cases"
   ]
  },
  {
   "cell_type": "markdown",
   "metadata": {
    "slideshow": {
     "slide_type": "fragment"
    }
   },
   "source": [
    "If we want to select variables and filter cases at the same time, we have two options:\n",
    "\n",
    "1. Sequential operations\n",
    "2. Simultaneous operations"
   ]
  },
  {
   "cell_type": "markdown",
   "metadata": {
    "slideshow": {
     "slide_type": "slide"
    }
   },
   "source": [
    "#### Sequential Operations\n",
    "\n",
    "We can use what we've previously learned to select variables and filter cases in multiple steps:"
   ]
  },
  {
   "cell_type": "code",
   "execution_count": null,
   "metadata": {
    "slideshow": {
     "slide_type": "-"
    }
   },
   "outputs": [],
   "source": [
    "filt = movies_df['imdb_score'] > 8.5\n",
    "movies_df_filtered = movies_df.loc[filt]\n",
    "cols = ['title', 'director_name', 'imdb_score']\n",
    "movies_df_filtered_and_selected = movies_df_filtered[cols]\n",
    "movies_df_filtered_and_selected.head()"
   ]
  },
  {
   "cell_type": "markdown",
   "metadata": {
    "slideshow": {
     "slide_type": "fragment"
    }
   },
   "source": [
    "This is a good way to learn how to select and filter one step at a time."
   ]
  },
  {
   "cell_type": "markdown",
   "metadata": {
    "slideshow": {
     "slide_type": "slide"
    }
   },
   "source": [
    "#### Sequential Operations + Chaining\n",
    "\n",
    "We can also chain these operations one after another like so:"
   ]
  },
  {
   "cell_type": "code",
   "execution_count": null,
   "metadata": {
    "slideshow": {
     "slide_type": "-"
    }
   },
   "outputs": [],
   "source": [
    "filt = movies_df['imdb_score'] > 8.5\n",
    "cols = ['title', 'director_name', 'imdb_score']\n",
    "movies_df.loc[filt][cols].head()"
   ]
  },
  {
   "cell_type": "markdown",
   "metadata": {
    "slideshow": {
     "slide_type": "slide"
    }
   },
   "source": [
    "#### Simultaneous Operations\n",
    "\n",
    "Finally, we can also do both selecting and filtering in a single step with `.loc`:"
   ]
  },
  {
   "cell_type": "code",
   "execution_count": null,
   "metadata": {
    "slideshow": {
     "slide_type": "-"
    }
   },
   "outputs": [],
   "source": [
    "filt = movies_df['imdb_score'] > 8.5\n",
    "cols = ['title', 'director_name', 'imdb_score']\n",
    "movies_df.loc[filt,cols].head()"
   ]
  },
  {
   "cell_type": "markdown",
   "metadata": {
    "slideshow": {
     "slide_type": "fragment"
    }
   },
   "source": [
    "The general syntax for `.loc` is `df.loc[rows,cols]` where `rows` selects the desired rows and can either be a single row label, a list of row labels, or a filter like we just saw. Similarly `cols` can be either a single column label or a list of column labels."
   ]
  },
  {
   "cell_type": "markdown",
   "metadata": {
    "slideshow": {
     "slide_type": "slide"
    }
   },
   "source": [
    "## Your Turn\n",
    "\n",
    "<img src=\"images/exercise.png\" style=\"width: 1000px;\"/>"
   ]
  },
  {
   "cell_type": "markdown",
   "metadata": {
    "slideshow": {
     "slide_type": "slide"
    }
   },
   "source": [
    "<font class=\"your_turn\">\n",
    "    Your Turn\n",
    "</font>\n",
    "\n",
    "1. Filtere das Movie Dataset so, dass nur Filme die im Jahr 1998 produziert wurden, Filme die zwischen 2003 und 2005 produziert wurden und mindestens zwei Stunden Laufzeit haben übrig bleiben. Behalte zudem nur den Namen des Film, den Direktor, das Produktionsjahr, die Laufzeit, sowie das für die Produktion verbrauchte Budget als Variablen bei.\n",
    "2. Lade ein weiteres Beispiel Dataset, z.b. `bikes.csv`, `airbnb.csv` oder `employee.csv` aus dem `../data/` Ordner und versuche ein paar Selektionen & Filterungen durchzuführen."
   ]
  },
  {
   "cell_type": "markdown",
   "metadata": {
    "slideshow": {
     "slide_type": "slide"
    }
   },
   "source": [
    "# Questions\n",
    "\n",
    "Are there any questions up to this point?\n",
    "\n",
    "<img src=\"images/any_questions.png\" style=\"width: 1000px;\"/>"
   ]
  }
 ],
 "metadata": {
  "celltoolbar": "Slideshow",
  "kernelspec": {
   "display_name": "Python 3 (ipykernel)",
   "language": "python",
   "name": "python3"
  },
  "language_info": {
   "codemirror_mode": {
    "name": "ipython",
    "version": 3
   },
   "file_extension": ".py",
   "mimetype": "text/x-python",
   "name": "python",
   "nbconvert_exporter": "python",
   "pygments_lexer": "ipython3",
   "version": "3.10.10"
  },
  "rise": {
   "autolaunch": false,
   "transition": "none"
  }
 },
 "nbformat": 4,
 "nbformat_minor": 4
}

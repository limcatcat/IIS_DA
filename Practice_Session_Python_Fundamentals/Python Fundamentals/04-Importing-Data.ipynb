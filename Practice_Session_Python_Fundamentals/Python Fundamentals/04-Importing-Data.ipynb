{
 "cells": [
  {
   "cell_type": "markdown",
   "metadata": {
    "slideshow": {
     "slide_type": "slide"
    }
   },
   "source": [
    "# Importing Data"
   ]
  },
  {
   "cell_type": "markdown",
   "metadata": {
    "slideshow": {
     "slide_type": "-"
    }
   },
   "source": [
    "> There is no data science without data.\n",
    ">\n",
    "> \\- A wise person"
   ]
  },
  {
   "cell_type": "markdown",
   "metadata": {
    "slideshow": {
     "slide_type": "slide"
    }
   },
   "source": [
    "## Applied Review"
   ]
  },
  {
   "cell_type": "markdown",
   "metadata": {
    "slideshow": {
     "slide_type": "slide"
    }
   },
   "source": [
    "### Fundamentals and Data in Python\n",
    "\n",
    "* Python stores its data in **variables** - words that you choose to represent values you've stored\n",
    "* This is done using **assignment** - you assign data to a variable"
   ]
  },
  {
   "cell_type": "markdown",
   "metadata": {
    "slideshow": {
     "slide_type": "slide"
    }
   },
   "source": [
    "### Packages/Modules and Data in Python\n",
    "\n",
    "* Data is frequently represented inside a **DataFrame** - a class from the pandas library\n",
    "* The pandas library has **methods** for importing different types of files into DataFrames - operations that import data"
   ]
  },
  {
   "cell_type": "markdown",
   "metadata": {
    "slideshow": {
     "slide_type": "slide"
    }
   },
   "source": [
    "## Importing Tabular Data\n",
    "\n",
    "For much of data science, tabular data is the most common format of data."
   ]
  },
  {
   "cell_type": "markdown",
   "metadata": {
    "slideshow": {
     "slide_type": "slide"
    }
   },
   "source": [
    "### Importing pandas\n",
    "\n",
    "This format of data, like many others, can be imported into Python using the pandas library. Again, first we load pandas with the below code:"
   ]
  },
  {
   "cell_type": "code",
   "execution_count": null,
   "metadata": {},
   "outputs": [],
   "source": [
    "#Maybe, you have to install pandas first, depnding on your environment\n",
    "%pip install pandas"
   ]
  },
  {
   "cell_type": "code",
   "execution_count": null,
   "metadata": {
    "slideshow": {
     "slide_type": "-"
    }
   },
   "outputs": [],
   "source": [
    "import pandas as pd"
   ]
  },
  {
   "cell_type": "markdown",
   "metadata": {
    "slideshow": {
     "slide_type": "slide"
    }
   },
   "source": [
    "### Importing Tabular Data with Pandas\n",
    "\n",
    "The pandas library is the primary library for representing and working with tabular data in Python.\n",
    "\n",
    "pandas is preferred because it can import data directly into a DataFrame -- the data structure of choice for tabular data in Python."
   ]
  },
  {
   "cell_type": "markdown",
   "metadata": {
    "slideshow": {
     "slide_type": "fragment"
    }
   },
   "source": [
    "The `read_csv` function is used to import a tabular data file, a CSV, into a DataFrame:"
   ]
  },
  {
   "cell_type": "code",
   "execution_count": null,
   "metadata": {
    "slideshow": {
     "slide_type": "-"
    }
   },
   "outputs": [],
   "source": [
    "movies = pd.read_csv('data/movies.csv')"
   ]
  },
  {
   "cell_type": "markdown",
   "metadata": {
    "slideshow": {
     "slide_type": "slide"
    }
   },
   "source": [
    "And, as you have seen many times by now, we can visualize the first few rows our DataFrame using the `head()` method:"
   ]
  },
  {
   "cell_type": "code",
   "execution_count": null,
   "metadata": {
    "slideshow": {
     "slide_type": "-"
    }
   },
   "outputs": [],
   "source": [
    "movies.head()"
   ]
  },
  {
   "cell_type": "markdown",
   "metadata": {
    "slideshow": {
     "slide_type": "slide"
    }
   },
   "source": [
    "The `read_csv()` function has many parameters for importing data. A few examples:\n",
    "\n",
    "* `sep` - the data's delimter e.g. `,`, `;` or `|`\n",
    "* `header` - the row number containing the column names, pandas will try and automatically infer this\n",
    "* `parse_dates` - an optional list of columns that should be parsed as dates"
   ]
  },
  {
   "cell_type": "markdown",
   "metadata": {
    "slideshow": {
     "slide_type": "fragment"
    }
   },
   "source": [
    "The full documentation can be access by running the method name followed by a question mark:"
   ]
  },
  {
   "cell_type": "code",
   "execution_count": null,
   "metadata": {
    "slideshow": {
     "slide_type": "-"
    }
   },
   "outputs": [],
   "source": [
    "pd.read_csv?"
   ]
  },
  {
   "cell_type": "markdown",
   "metadata": {
    "slideshow": {
     "slide_type": "slide"
    }
   },
   "source": [
    "## Your Turn\n",
    "\n",
    "<img src=\"images/exercise.png\" style=\"width: 1000px;\"/>"
   ]
  },
  {
   "cell_type": "markdown",
   "metadata": {
    "slideshow": {
     "slide_type": "slide"
    }
   },
   "source": [
    "<font class=\"your_turn\">\n",
    "    Your Turn\n",
    "</font>\n",
    "\n",
    "1. Wo speichert Python die Daten für die interaktive Nutzung?\n",
    "2. Was passiert mit diesen Daten, wenn Python/Jupyter beendet wird?\n",
    "3. Lade die `../data/movies.csv` Datei in einen Dataframe."
   ]
  },
  {
   "cell_type": "markdown",
   "metadata": {
    "slideshow": {
     "slide_type": "skip"
    }
   },
   "source": [
    "<font class=\"your_turn\">\n",
    "    Your Turn\n",
    "</font>\n",
    "\n",
    "1. Python stores its data in ____________. \n",
    "2. What happens to Python's data when the Python session is terminated?\n",
    "3. Load the `../data/movies.csv` data file into Python using the `pandas` library."
   ]
  },
  {
   "cell_type": "markdown",
   "metadata": {
    "slideshow": {
     "slide_type": "slide"
    }
   },
   "source": [
    "# Questions\n",
    "\n",
    "Are there any questions up to this point?\n",
    "\n",
    "<img src=\"images/any_questions.png\" style=\"width: 1000px;\"/>"
   ]
  },
  {
   "cell_type": "markdown",
   "metadata": {
    "slideshow": {
     "slide_type": "slide"
    }
   },
   "source": [
    "## Memory and Data Size"
   ]
  },
  {
   "cell_type": "markdown",
   "metadata": {
    "slideshow": {
     "slide_type": "fragment"
    }
   },
   "source": [
    "* Python stores data in **memory** - this makes it fast to work with the data once loaded. "
   ]
  },
  {
   "cell_type": "markdown",
   "metadata": {
    "slideshow": {
     "slide_type": "fragment"
    }
   },
   "source": [
    "* When working with _very large_ datasets however memory can become a limiting factor. As a rule of thumb you should ideally have 5 to 10 times as much RAM as the size of your dataset. "
   ]
  },
  {
   "cell_type": "markdown",
   "metadata": {
    "slideshow": {
     "slide_type": "fragment"
    }
   },
   "source": [
    "* So if you have a 2 GB dataset, you should have about 10 GB, preferably a little more, of RAM available"
   ]
  },
  {
   "cell_type": "markdown",
   "metadata": {
    "slideshow": {
     "slide_type": "slide"
    }
   },
   "source": [
    "* That said 2GB is already _a lot_ of data and via our Azure ML Workbench we still have room to scale. So you shouldn't run into size problems anytime soon. (And if you do there are several approaches to work around this limitation.)"
   ]
  },
  {
   "cell_type": "markdown",
   "metadata": {
    "slideshow": {
     "slide_type": "fragment"
    }
   },
   "source": [
    "* Finally, Python memory is session-specific, so quitting Python (i.e. shutting down Jupyter) removes the data from memory."
   ]
  }
 ],
 "metadata": {
  "celltoolbar": "Slideshow",
  "kernelspec": {
   "display_name": "Python 3 (ipykernel)",
   "language": "python",
   "name": "python3"
  },
  "language_info": {
   "codemirror_mode": {
    "name": "ipython",
    "version": 3
   },
   "file_extension": ".py",
   "mimetype": "text/x-python",
   "name": "python",
   "nbconvert_exporter": "python",
   "pygments_lexer": "ipython3",
   "version": "3.10.10"
  },
  "rise": {
   "autolaunch": false,
   "transition": "none"
  }
 },
 "nbformat": 4,
 "nbformat_minor": 4
}

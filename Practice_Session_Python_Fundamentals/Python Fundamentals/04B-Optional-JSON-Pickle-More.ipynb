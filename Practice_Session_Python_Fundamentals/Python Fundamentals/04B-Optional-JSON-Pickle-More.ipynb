{
 "cells": [
  {
   "cell_type": "markdown",
   "metadata": {
    "slideshow": {
     "slide_type": "slide"
    }
   },
   "source": [
    "# Importing Data"
   ]
  },
  {
   "cell_type": "markdown",
   "metadata": {
    "slideshow": {
     "slide_type": "slide"
    }
   },
   "source": [
    "### Optional: JSON Files"
   ]
  },
  {
   "cell_type": "markdown",
   "metadata": {
    "slideshow": {
     "slide_type": "fragment"
    }
   },
   "source": [
    "Another common format are JSON files -- these are non-tabular data files that are popular in many applications, particularly web applications and APIs. "
   ]
  },
  {
   "cell_type": "markdown",
   "metadata": {
    "slideshow": {
     "slide_type": "fragment"
    }
   },
   "source": [
    "JSON files enjoy high popularity as they are very flexible to adapt to changing storage needs, are compatible with just about any system (as they are encoded in plain text), and are friendly to read for both humans and machines. You will frequently encounter them when speaking to an API or otherwise obtaining data from the web."
   ]
  },
  {
   "cell_type": "markdown",
   "metadata": {
    "slideshow": {
     "slide_type": "slide"
    }
   },
   "source": [
    "Here is an example JSON file containing information about an airplane:\n",
    "\n",
    "```json\n",
    "{\n",
    "    \"planeId\": \"1xc2345g\",\n",
    "    \"manufacturerDetails\": {\n",
    "        \"manufacturer\": \"Airbus\",\n",
    "        \"model\": \"A330\",\n",
    "        \"year\": 1999\n",
    "    },\n",
    "    \"airlineDetails\": {\n",
    "        \"currentAirline\": \"Lufthansa\",\n",
    "        \"previousAirlines\": {\n",
    "            \"1st\": \"Emirates\"\n",
    "        },\n",
    "        \"lastPurchased\": 2013\n",
    "    },\n",
    "    \"numberOfFlights\": 4654\n",
    "}\n",
    "```"
   ]
  },
  {
   "cell_type": "markdown",
   "metadata": {
    "slideshow": {
     "slide_type": "fragment"
    }
   },
   "source": [
    "<font class=\"question\">\n",
    "    <strong>Question</strong>:<br><em>Does this JSON data structure remind you of a Python data structure?</em>\n",
    "</font>"
   ]
  },
  {
   "cell_type": "markdown",
   "metadata": {
    "slideshow": {
     "slide_type": "fragment"
    }
   },
   "source": [
    "The JSON file bears a striking reseblance to the Python `dict` structure due to the key-value pairings."
   ]
  },
  {
   "cell_type": "markdown",
   "metadata": {
    "slideshow": {
     "slide_type": "slide"
    }
   },
   "source": [
    "#### Importing JSON Files\n",
    "\n",
    "JSON Files can be imported using the the `json` library paired with the `with` statement and the `open()` function:"
   ]
  },
  {
   "cell_type": "code",
   "execution_count": null,
   "metadata": {
    "slideshow": {
     "slide_type": "-"
    }
   },
   "outputs": [],
   "source": [
    "import json\n",
    "with open('data/json_example.json', 'r') as f:\n",
    "    imported_json = json.load(f)"
   ]
  },
  {
   "cell_type": "markdown",
   "metadata": {
    "slideshow": {
     "slide_type": "fragment"
    }
   },
   "source": [
    "And indeed, when importing a JSON file this way, it will be loaded into a Python dictionary.  \n",
    "We can then verify that the `imported_json` variable is a `dict`:"
   ]
  },
  {
   "cell_type": "code",
   "execution_count": null,
   "metadata": {
    "slideshow": {
     "slide_type": "-"
    }
   },
   "outputs": [],
   "source": [
    "type(imported_json)"
   ]
  },
  {
   "cell_type": "markdown",
   "metadata": {
    "slideshow": {
     "slide_type": "slide"
    }
   },
   "source": [
    "This is what the data looks like, once loaded into Python:"
   ]
  },
  {
   "cell_type": "code",
   "execution_count": null,
   "metadata": {
    "slideshow": {
     "slide_type": "fragment"
    }
   },
   "outputs": [],
   "source": [
    "imported_json"
   ]
  },
  {
   "cell_type": "markdown",
   "metadata": {
    "slideshow": {
     "slide_type": "fragment"
    }
   },
   "source": [
    "It is possible to convert this data to a Pandas DataFrame. However since JSON often includes nested records, you likely will first have to do some extra work to massage the data into a suitable tabular form."
   ]
  },
  {
   "cell_type": "markdown",
   "metadata": {
    "slideshow": {
     "slide_type": "slide"
    }
   },
   "source": [
    "Let's import another JSON file that already is in a more flat format:"
   ]
  },
  {
   "cell_type": "code",
   "execution_count": null,
   "metadata": {
    "slideshow": {
     "slide_type": "fragment"
    }
   },
   "outputs": [],
   "source": [
    "import json\n",
    "with open('data/airlines.json', 'r') as f:\n",
    "    flat_json = json.load(f)\n",
    "flat_json"
   ]
  },
  {
   "cell_type": "code",
   "execution_count": null,
   "metadata": {
    "slideshow": {
     "slide_type": "fragment"
    }
   },
   "outputs": [],
   "source": [
    "# This file can be directly passed to pd.DataFrame() and pandas will know how to read it\n",
    "import pandas as pd\n",
    "df_json = pd.DataFrame(flat_json)\n",
    "df_json.head()"
   ]
  },
  {
   "cell_type": "markdown",
   "metadata": {
    "slideshow": {
     "slide_type": "slide"
    }
   },
   "source": [
    "## Optional: Importing Other Files"
   ]
  },
  {
   "cell_type": "markdown",
   "metadata": {
    "slideshow": {
     "slide_type": "fragment"
    }
   },
   "source": [
    "Over time you are likely to also encounter data in other formats"
   ]
  },
  {
   "cell_type": "markdown",
   "metadata": {
    "slideshow": {
     "slide_type": "fragment"
    }
   },
   "source": [
    "Here are some of the relatively common ones:\n",
    "- Connecting to **relational databases** (like Postgres or Oracle)\n",
    "    - tabular data, similar to csv\n",
    "- Connecting to NoSQL or **document databases** (like MongoDB)\n",
    "    - nested data, similar to JSON\n",
    "- Obtaining data directly from an **external API**\n",
    "    - often JSON\n",
    "- Other data formats: xml, xlsx, avro, parquet, delta"
   ]
  },
  {
   "cell_type": "markdown",
   "metadata": {
    "slideshow": {
     "slide_type": "slide"
    }
   },
   "source": [
    "The good news is that Pandas comes with native support for many of these. And Python, including it's vast ecosystem of packages, generally offers first-class support to interface with any common data type or database system. \n",
    "\n",
    "If ever in doubt the answer is usually just a google search away."
   ]
  },
  {
   "cell_type": "markdown",
   "metadata": {
    "slideshow": {
     "slide_type": "fragment"
    }
   },
   "source": [
    "That said, once we have access to the data, our **goal** should always be to **first** try and **bring our data into tidy, tabular form** to facilitate further processing, analysis and the building of models."
   ]
  },
  {
   "cell_type": "markdown",
   "metadata": {},
   "source": [
    "For the remainder of this course we will continue to work with tabular data. Most of the data you will encounter at BSH will already be in this form as well."
   ]
  },
  {
   "cell_type": "markdown",
   "metadata": {
    "slideshow": {
     "slide_type": "slide"
    }
   },
   "source": [
    "# Questions\n",
    "\n",
    "Are there any questions up to this point?\n",
    "\n",
    "<img src=\"images/any_questions.png\" style=\"width: 1000px;\"/>"
   ]
  },
  {
   "cell_type": "markdown",
   "metadata": {},
   "source": [
    "----"
   ]
  },
  {
   "cell_type": "markdown",
   "metadata": {
    "slideshow": {
     "slide_type": "slide"
    }
   },
   "source": [
    "### Optional: General Framework"
   ]
  },
  {
   "cell_type": "markdown",
   "metadata": {
    "slideshow": {
     "slide_type": "fragment"
    }
   },
   "source": [
    "A general way to conceptualize data import into and use within Python:"
   ]
  },
  {
   "cell_type": "markdown",
   "metadata": {
    "slideshow": {
     "slide_type": "fragment"
    }
   },
   "source": [
    "1. Data sits in on the computer/server - this is frequently called \"disk\"\n",
    "2. Python code can be used to copy a data file from disk to the Python session's memory\n",
    "3. Python data then sits within Python's memory ready to be used by other Python code"
   ]
  },
  {
   "cell_type": "markdown",
   "metadata": {
    "slideshow": {
     "slide_type": "slide"
    }
   },
   "source": [
    "Here is a visualization of this process:\n",
    "\n",
    "\n",
    "<center>\n",
    "<img src=\"images/import-framework.png\" alt=\"import-framework.png\" width=\"1000\" height=\"1000\">\n",
    "</center>"
   ]
  },
  {
   "cell_type": "markdown",
   "metadata": {},
   "source": [
    "---"
   ]
  },
  {
   "cell_type": "markdown",
   "metadata": {
    "slideshow": {
     "slide_type": "slide"
    }
   },
   "source": [
    "### Optional: Pickle Files"
   ]
  },
  {
   "cell_type": "markdown",
   "metadata": {
    "slideshow": {
     "slide_type": "fragment"
    }
   },
   "source": [
    "So far, we've seen that DataFrames can be represented as tabular data files and dicts can be represented as JSON files, but what about other, more complex data?"
   ]
  },
  {
   "cell_type": "markdown",
   "metadata": {
    "slideshow": {
     "slide_type": "slide"
    }
   },
   "source": [
    "Python's native data files are known as **Pickle** files:"
   ]
  },
  {
   "cell_type": "markdown",
   "metadata": {
    "slideshow": {
     "slide_type": "fragment"
    }
   },
   "source": [
    "* All Pickle files have the `.pickle` extension"
   ]
  },
  {
   "cell_type": "markdown",
   "metadata": {
    "slideshow": {
     "slide_type": "fragment"
    }
   },
   "source": [
    "* Pickle files are great for saving native Python data that can't easily be represented by other file types\n",
    "  * Pre-processed data\n",
    "  * Models\n",
    "  * Any other Python object..."
   ]
  },
  {
   "cell_type": "markdown",
   "metadata": {
    "slideshow": {
     "slide_type": "slide"
    }
   },
   "source": [
    "#### Importing Pickle Files\n",
    "\n",
    "Pickle files can be imported using the `pickle` library paired with the `with` statement and the `open()` function:"
   ]
  },
  {
   "cell_type": "code",
   "execution_count": null,
   "metadata": {
    "slideshow": {
     "slide_type": "fragment"
    }
   },
   "outputs": [],
   "source": [
    "import pickle\n",
    "with open('data/pickle_example.pickle', 'rb') as f:\n",
    "    imported_pickle = pickle.load(f)"
   ]
  },
  {
   "cell_type": "markdown",
   "metadata": {
    "slideshow": {
     "slide_type": "slide"
    }
   },
   "source": [
    "We can view this file and see it's the same data as the JSON:"
   ]
  },
  {
   "cell_type": "code",
   "execution_count": null,
   "metadata": {
    "slideshow": {
     "slide_type": "-"
    }
   },
   "outputs": [],
   "source": [
    "imported_pickle"
   ]
  },
  {
   "cell_type": "markdown",
   "metadata": {
    "slideshow": {
     "slide_type": "fragment"
    }
   },
   "source": [
    "And that it was loaded directly as a `dict`:"
   ]
  },
  {
   "cell_type": "code",
   "execution_count": null,
   "metadata": {
    "slideshow": {
     "slide_type": "-"
    }
   },
   "outputs": [],
   "source": [
    "type(imported_pickle)"
   ]
  }
 ],
 "metadata": {
  "celltoolbar": "Slideshow",
  "kernelspec": {
   "display_name": "Python 3 (ipykernel)",
   "language": "python",
   "name": "python3"
  },
  "language_info": {
   "codemirror_mode": {
    "name": "ipython",
    "version": 3
   },
   "file_extension": ".py",
   "mimetype": "text/x-python",
   "name": "python",
   "nbconvert_exporter": "python",
   "pygments_lexer": "ipython3",
   "version": "3.10.10"
  },
  "rise": {
   "autolaunch": false,
   "transition": "none"
  }
 },
 "nbformat": 4,
 "nbformat_minor": 4
}
